{
  "nbformat": 4,
  "nbformat_minor": 0,
  "metadata": {
    "colab": {
      "provenance": []
    },
    "kernelspec": {
      "name": "python3",
      "display_name": "Python 3"
    },
    "language_info": {
      "name": "python"
    }
  },
  "cells": [
    {
      "cell_type": "code",
      "execution_count": null,
      "metadata": {
        "id": "RL8gsQHvyyyH"
      },
      "outputs": [],
      "source": [
        "import numpy as np   \n",
        "import pandas as pd\n",
        "from datetime import datetime"
      ]
    },
    {
      "cell_type": "code",
      "source": [
        "import pandas as pd\n",
        "import matplotlib.pylab as plt\n",
        "import datetime as dt\n",
        "import torch\n",
        "from sklearn.metrics import accuracy_score"
      ],
      "metadata": {
        "id": "TnAeqWT7zJhd"
      },
      "execution_count": 9,
      "outputs": []
    },
    {
      "cell_type": "code",
      "source": [
        "from sklearn.linear_model import LinearRegression"
      ],
      "metadata": {
        "id": "hMRWtyV2BQqm"
      },
      "execution_count": 10,
      "outputs": []
    },
    {
      "cell_type": "code",
      "source": [
        "from google.colab import drive"
      ],
      "metadata": {
        "id": "PdHTAofM0FGs"
      },
      "execution_count": 11,
      "outputs": []
    },
    {
      "cell_type": "code",
      "source": [
        "drive.mount('/content/drive')"
      ],
      "metadata": {
        "colab": {
          "base_uri": "https://localhost:8080/"
        },
        "id": "7HUKqnlZ0Jfu",
        "outputId": "1be6b809-a4dd-4b16-b9d4-e0ee630945fa"
      },
      "execution_count": 12,
      "outputs": [
        {
          "output_type": "stream",
          "name": "stdout",
          "text": [
            "Drive already mounted at /content/drive; to attempt to forcibly remount, call drive.mount(\"/content/drive\", force_remount=True).\n"
          ]
        }
      ]
    },
    {
      "cell_type": "code",
      "source": [
        "df = pd.read_csv('/content/drive/MyDrive/indexData.csv')"
      ],
      "metadata": {
        "id": "S_H1XOj3zNeq"
      },
      "execution_count": 13,
      "outputs": []
    },
    {
      "cell_type": "code",
      "source": [
        "df.head()"
      ],
      "metadata": {
        "colab": {
          "base_uri": "https://localhost:8080/",
          "height": 206
        },
        "id": "7cjWYvzg0alo",
        "outputId": "c93eff52-484d-44ff-83da-a46fbce3bd29"
      },
      "execution_count": 14,
      "outputs": [
        {
          "output_type": "execute_result",
          "data": {
            "text/plain": [
              "  Index        Date        Open        High         Low       Close  \\\n",
              "0   NYA  1965-12-31  528.690002  528.690002  528.690002  528.690002   \n",
              "1   NYA  1966-01-03  527.210022  527.210022  527.210022  527.210022   \n",
              "2   NYA  1966-01-04  527.840027  527.840027  527.840027  527.840027   \n",
              "3   NYA  1966-01-05  531.119995  531.119995  531.119995  531.119995   \n",
              "4   NYA  1966-01-06  532.070007  532.070007  532.070007  532.070007   \n",
              "\n",
              "    Adj Close  Volume  \n",
              "0  528.690002     0.0  \n",
              "1  527.210022     0.0  \n",
              "2  527.840027     0.0  \n",
              "3  531.119995     0.0  \n",
              "4  532.070007     0.0  "
            ],
            "text/html": [
              "\n",
              "  <div id=\"df-e4c2663e-7a17-4331-9d16-f8daafa7e8f7\">\n",
              "    <div class=\"colab-df-container\">\n",
              "      <div>\n",
              "<style scoped>\n",
              "    .dataframe tbody tr th:only-of-type {\n",
              "        vertical-align: middle;\n",
              "    }\n",
              "\n",
              "    .dataframe tbody tr th {\n",
              "        vertical-align: top;\n",
              "    }\n",
              "\n",
              "    .dataframe thead th {\n",
              "        text-align: right;\n",
              "    }\n",
              "</style>\n",
              "<table border=\"1\" class=\"dataframe\">\n",
              "  <thead>\n",
              "    <tr style=\"text-align: right;\">\n",
              "      <th></th>\n",
              "      <th>Index</th>\n",
              "      <th>Date</th>\n",
              "      <th>Open</th>\n",
              "      <th>High</th>\n",
              "      <th>Low</th>\n",
              "      <th>Close</th>\n",
              "      <th>Adj Close</th>\n",
              "      <th>Volume</th>\n",
              "    </tr>\n",
              "  </thead>\n",
              "  <tbody>\n",
              "    <tr>\n",
              "      <th>0</th>\n",
              "      <td>NYA</td>\n",
              "      <td>1965-12-31</td>\n",
              "      <td>528.690002</td>\n",
              "      <td>528.690002</td>\n",
              "      <td>528.690002</td>\n",
              "      <td>528.690002</td>\n",
              "      <td>528.690002</td>\n",
              "      <td>0.0</td>\n",
              "    </tr>\n",
              "    <tr>\n",
              "      <th>1</th>\n",
              "      <td>NYA</td>\n",
              "      <td>1966-01-03</td>\n",
              "      <td>527.210022</td>\n",
              "      <td>527.210022</td>\n",
              "      <td>527.210022</td>\n",
              "      <td>527.210022</td>\n",
              "      <td>527.210022</td>\n",
              "      <td>0.0</td>\n",
              "    </tr>\n",
              "    <tr>\n",
              "      <th>2</th>\n",
              "      <td>NYA</td>\n",
              "      <td>1966-01-04</td>\n",
              "      <td>527.840027</td>\n",
              "      <td>527.840027</td>\n",
              "      <td>527.840027</td>\n",
              "      <td>527.840027</td>\n",
              "      <td>527.840027</td>\n",
              "      <td>0.0</td>\n",
              "    </tr>\n",
              "    <tr>\n",
              "      <th>3</th>\n",
              "      <td>NYA</td>\n",
              "      <td>1966-01-05</td>\n",
              "      <td>531.119995</td>\n",
              "      <td>531.119995</td>\n",
              "      <td>531.119995</td>\n",
              "      <td>531.119995</td>\n",
              "      <td>531.119995</td>\n",
              "      <td>0.0</td>\n",
              "    </tr>\n",
              "    <tr>\n",
              "      <th>4</th>\n",
              "      <td>NYA</td>\n",
              "      <td>1966-01-06</td>\n",
              "      <td>532.070007</td>\n",
              "      <td>532.070007</td>\n",
              "      <td>532.070007</td>\n",
              "      <td>532.070007</td>\n",
              "      <td>532.070007</td>\n",
              "      <td>0.0</td>\n",
              "    </tr>\n",
              "  </tbody>\n",
              "</table>\n",
              "</div>\n",
              "      <button class=\"colab-df-convert\" onclick=\"convertToInteractive('df-e4c2663e-7a17-4331-9d16-f8daafa7e8f7')\"\n",
              "              title=\"Convert this dataframe to an interactive table.\"\n",
              "              style=\"display:none;\">\n",
              "        \n",
              "  <svg xmlns=\"http://www.w3.org/2000/svg\" height=\"24px\"viewBox=\"0 0 24 24\"\n",
              "       width=\"24px\">\n",
              "    <path d=\"M0 0h24v24H0V0z\" fill=\"none\"/>\n",
              "    <path d=\"M18.56 5.44l.94 2.06.94-2.06 2.06-.94-2.06-.94-.94-2.06-.94 2.06-2.06.94zm-11 1L8.5 8.5l.94-2.06 2.06-.94-2.06-.94L8.5 2.5l-.94 2.06-2.06.94zm10 10l.94 2.06.94-2.06 2.06-.94-2.06-.94-.94-2.06-.94 2.06-2.06.94z\"/><path d=\"M17.41 7.96l-1.37-1.37c-.4-.4-.92-.59-1.43-.59-.52 0-1.04.2-1.43.59L10.3 9.45l-7.72 7.72c-.78.78-.78 2.05 0 2.83L4 21.41c.39.39.9.59 1.41.59.51 0 1.02-.2 1.41-.59l7.78-7.78 2.81-2.81c.8-.78.8-2.07 0-2.86zM5.41 20L4 18.59l7.72-7.72 1.47 1.35L5.41 20z\"/>\n",
              "  </svg>\n",
              "      </button>\n",
              "      \n",
              "  <style>\n",
              "    .colab-df-container {\n",
              "      display:flex;\n",
              "      flex-wrap:wrap;\n",
              "      gap: 12px;\n",
              "    }\n",
              "\n",
              "    .colab-df-convert {\n",
              "      background-color: #E8F0FE;\n",
              "      border: none;\n",
              "      border-radius: 50%;\n",
              "      cursor: pointer;\n",
              "      display: none;\n",
              "      fill: #1967D2;\n",
              "      height: 32px;\n",
              "      padding: 0 0 0 0;\n",
              "      width: 32px;\n",
              "    }\n",
              "\n",
              "    .colab-df-convert:hover {\n",
              "      background-color: #E2EBFA;\n",
              "      box-shadow: 0px 1px 2px rgba(60, 64, 67, 0.3), 0px 1px 3px 1px rgba(60, 64, 67, 0.15);\n",
              "      fill: #174EA6;\n",
              "    }\n",
              "\n",
              "    [theme=dark] .colab-df-convert {\n",
              "      background-color: #3B4455;\n",
              "      fill: #D2E3FC;\n",
              "    }\n",
              "\n",
              "    [theme=dark] .colab-df-convert:hover {\n",
              "      background-color: #434B5C;\n",
              "      box-shadow: 0px 1px 3px 1px rgba(0, 0, 0, 0.15);\n",
              "      filter: drop-shadow(0px 1px 2px rgba(0, 0, 0, 0.3));\n",
              "      fill: #FFFFFF;\n",
              "    }\n",
              "  </style>\n",
              "\n",
              "      <script>\n",
              "        const buttonEl =\n",
              "          document.querySelector('#df-e4c2663e-7a17-4331-9d16-f8daafa7e8f7 button.colab-df-convert');\n",
              "        buttonEl.style.display =\n",
              "          google.colab.kernel.accessAllowed ? 'block' : 'none';\n",
              "\n",
              "        async function convertToInteractive(key) {\n",
              "          const element = document.querySelector('#df-e4c2663e-7a17-4331-9d16-f8daafa7e8f7');\n",
              "          const dataTable =\n",
              "            await google.colab.kernel.invokeFunction('convertToInteractive',\n",
              "                                                     [key], {});\n",
              "          if (!dataTable) return;\n",
              "\n",
              "          const docLinkHtml = 'Like what you see? Visit the ' +\n",
              "            '<a target=\"_blank\" href=https://colab.research.google.com/notebooks/data_table.ipynb>data table notebook</a>'\n",
              "            + ' to learn more about interactive tables.';\n",
              "          element.innerHTML = '';\n",
              "          dataTable['output_type'] = 'display_data';\n",
              "          await google.colab.output.renderOutput(dataTable, element);\n",
              "          const docLink = document.createElement('div');\n",
              "          docLink.innerHTML = docLinkHtml;\n",
              "          element.appendChild(docLink);\n",
              "        }\n",
              "      </script>\n",
              "    </div>\n",
              "  </div>\n",
              "  "
            ]
          },
          "metadata": {},
          "execution_count": 14
        }
      ]
    },
    {
      "cell_type": "code",
      "source": [
        "df.describe()"
      ],
      "metadata": {
        "colab": {
          "base_uri": "https://localhost:8080/",
          "height": 300
        },
        "id": "8zNFq5Ex0mb9",
        "outputId": "20610282-bce8-45bb-8c25-021b714ad18a"
      },
      "execution_count": 15,
      "outputs": [
        {
          "output_type": "execute_result",
          "data": {
            "text/plain": [
              "                Open           High            Low          Close  \\\n",
              "count  110253.000000  110253.000000  110253.000000  110253.000000   \n",
              "mean     7658.515222    7704.372961    7608.000422    7657.545872   \n",
              "std      9011.478913    9066.638548    8954.506981    9011.510444   \n",
              "min        54.869999      54.869999      54.869999      54.869999   \n",
              "25%      1855.030029    1864.510010    1843.979980    1855.060059   \n",
              "50%      5194.089844    5226.279785    5154.049805    5194.750000   \n",
              "75%     10134.299810   10207.820310   10060.349610   10134.830080   \n",
              "max     68775.062500   69403.750000   68516.992190   68775.062500   \n",
              "\n",
              "           Adj Close        Volume  \n",
              "count  110253.000000  1.102530e+05  \n",
              "mean     7657.351729  1.273975e+09  \n",
              "std      9011.608900  4.315783e+09  \n",
              "min        54.869999  0.000000e+00  \n",
              "25%      1854.179565  0.000000e+00  \n",
              "50%      5194.750000  4.329000e+05  \n",
              "75%     10134.830080  1.734314e+08  \n",
              "max     68775.062500  9.440374e+10  "
            ],
            "text/html": [
              "\n",
              "  <div id=\"df-b2e4877a-414a-4f6a-a18b-e8de99459138\">\n",
              "    <div class=\"colab-df-container\">\n",
              "      <div>\n",
              "<style scoped>\n",
              "    .dataframe tbody tr th:only-of-type {\n",
              "        vertical-align: middle;\n",
              "    }\n",
              "\n",
              "    .dataframe tbody tr th {\n",
              "        vertical-align: top;\n",
              "    }\n",
              "\n",
              "    .dataframe thead th {\n",
              "        text-align: right;\n",
              "    }\n",
              "</style>\n",
              "<table border=\"1\" class=\"dataframe\">\n",
              "  <thead>\n",
              "    <tr style=\"text-align: right;\">\n",
              "      <th></th>\n",
              "      <th>Open</th>\n",
              "      <th>High</th>\n",
              "      <th>Low</th>\n",
              "      <th>Close</th>\n",
              "      <th>Adj Close</th>\n",
              "      <th>Volume</th>\n",
              "    </tr>\n",
              "  </thead>\n",
              "  <tbody>\n",
              "    <tr>\n",
              "      <th>count</th>\n",
              "      <td>110253.000000</td>\n",
              "      <td>110253.000000</td>\n",
              "      <td>110253.000000</td>\n",
              "      <td>110253.000000</td>\n",
              "      <td>110253.000000</td>\n",
              "      <td>1.102530e+05</td>\n",
              "    </tr>\n",
              "    <tr>\n",
              "      <th>mean</th>\n",
              "      <td>7658.515222</td>\n",
              "      <td>7704.372961</td>\n",
              "      <td>7608.000422</td>\n",
              "      <td>7657.545872</td>\n",
              "      <td>7657.351729</td>\n",
              "      <td>1.273975e+09</td>\n",
              "    </tr>\n",
              "    <tr>\n",
              "      <th>std</th>\n",
              "      <td>9011.478913</td>\n",
              "      <td>9066.638548</td>\n",
              "      <td>8954.506981</td>\n",
              "      <td>9011.510444</td>\n",
              "      <td>9011.608900</td>\n",
              "      <td>4.315783e+09</td>\n",
              "    </tr>\n",
              "    <tr>\n",
              "      <th>min</th>\n",
              "      <td>54.869999</td>\n",
              "      <td>54.869999</td>\n",
              "      <td>54.869999</td>\n",
              "      <td>54.869999</td>\n",
              "      <td>54.869999</td>\n",
              "      <td>0.000000e+00</td>\n",
              "    </tr>\n",
              "    <tr>\n",
              "      <th>25%</th>\n",
              "      <td>1855.030029</td>\n",
              "      <td>1864.510010</td>\n",
              "      <td>1843.979980</td>\n",
              "      <td>1855.060059</td>\n",
              "      <td>1854.179565</td>\n",
              "      <td>0.000000e+00</td>\n",
              "    </tr>\n",
              "    <tr>\n",
              "      <th>50%</th>\n",
              "      <td>5194.089844</td>\n",
              "      <td>5226.279785</td>\n",
              "      <td>5154.049805</td>\n",
              "      <td>5194.750000</td>\n",
              "      <td>5194.750000</td>\n",
              "      <td>4.329000e+05</td>\n",
              "    </tr>\n",
              "    <tr>\n",
              "      <th>75%</th>\n",
              "      <td>10134.299810</td>\n",
              "      <td>10207.820310</td>\n",
              "      <td>10060.349610</td>\n",
              "      <td>10134.830080</td>\n",
              "      <td>10134.830080</td>\n",
              "      <td>1.734314e+08</td>\n",
              "    </tr>\n",
              "    <tr>\n",
              "      <th>max</th>\n",
              "      <td>68775.062500</td>\n",
              "      <td>69403.750000</td>\n",
              "      <td>68516.992190</td>\n",
              "      <td>68775.062500</td>\n",
              "      <td>68775.062500</td>\n",
              "      <td>9.440374e+10</td>\n",
              "    </tr>\n",
              "  </tbody>\n",
              "</table>\n",
              "</div>\n",
              "      <button class=\"colab-df-convert\" onclick=\"convertToInteractive('df-b2e4877a-414a-4f6a-a18b-e8de99459138')\"\n",
              "              title=\"Convert this dataframe to an interactive table.\"\n",
              "              style=\"display:none;\">\n",
              "        \n",
              "  <svg xmlns=\"http://www.w3.org/2000/svg\" height=\"24px\"viewBox=\"0 0 24 24\"\n",
              "       width=\"24px\">\n",
              "    <path d=\"M0 0h24v24H0V0z\" fill=\"none\"/>\n",
              "    <path d=\"M18.56 5.44l.94 2.06.94-2.06 2.06-.94-2.06-.94-.94-2.06-.94 2.06-2.06.94zm-11 1L8.5 8.5l.94-2.06 2.06-.94-2.06-.94L8.5 2.5l-.94 2.06-2.06.94zm10 10l.94 2.06.94-2.06 2.06-.94-2.06-.94-.94-2.06-.94 2.06-2.06.94z\"/><path d=\"M17.41 7.96l-1.37-1.37c-.4-.4-.92-.59-1.43-.59-.52 0-1.04.2-1.43.59L10.3 9.45l-7.72 7.72c-.78.78-.78 2.05 0 2.83L4 21.41c.39.39.9.59 1.41.59.51 0 1.02-.2 1.41-.59l7.78-7.78 2.81-2.81c.8-.78.8-2.07 0-2.86zM5.41 20L4 18.59l7.72-7.72 1.47 1.35L5.41 20z\"/>\n",
              "  </svg>\n",
              "      </button>\n",
              "      \n",
              "  <style>\n",
              "    .colab-df-container {\n",
              "      display:flex;\n",
              "      flex-wrap:wrap;\n",
              "      gap: 12px;\n",
              "    }\n",
              "\n",
              "    .colab-df-convert {\n",
              "      background-color: #E8F0FE;\n",
              "      border: none;\n",
              "      border-radius: 50%;\n",
              "      cursor: pointer;\n",
              "      display: none;\n",
              "      fill: #1967D2;\n",
              "      height: 32px;\n",
              "      padding: 0 0 0 0;\n",
              "      width: 32px;\n",
              "    }\n",
              "\n",
              "    .colab-df-convert:hover {\n",
              "      background-color: #E2EBFA;\n",
              "      box-shadow: 0px 1px 2px rgba(60, 64, 67, 0.3), 0px 1px 3px 1px rgba(60, 64, 67, 0.15);\n",
              "      fill: #174EA6;\n",
              "    }\n",
              "\n",
              "    [theme=dark] .colab-df-convert {\n",
              "      background-color: #3B4455;\n",
              "      fill: #D2E3FC;\n",
              "    }\n",
              "\n",
              "    [theme=dark] .colab-df-convert:hover {\n",
              "      background-color: #434B5C;\n",
              "      box-shadow: 0px 1px 3px 1px rgba(0, 0, 0, 0.15);\n",
              "      filter: drop-shadow(0px 1px 2px rgba(0, 0, 0, 0.3));\n",
              "      fill: #FFFFFF;\n",
              "    }\n",
              "  </style>\n",
              "\n",
              "      <script>\n",
              "        const buttonEl =\n",
              "          document.querySelector('#df-b2e4877a-414a-4f6a-a18b-e8de99459138 button.colab-df-convert');\n",
              "        buttonEl.style.display =\n",
              "          google.colab.kernel.accessAllowed ? 'block' : 'none';\n",
              "\n",
              "        async function convertToInteractive(key) {\n",
              "          const element = document.querySelector('#df-b2e4877a-414a-4f6a-a18b-e8de99459138');\n",
              "          const dataTable =\n",
              "            await google.colab.kernel.invokeFunction('convertToInteractive',\n",
              "                                                     [key], {});\n",
              "          if (!dataTable) return;\n",
              "\n",
              "          const docLinkHtml = 'Like what you see? Visit the ' +\n",
              "            '<a target=\"_blank\" href=https://colab.research.google.com/notebooks/data_table.ipynb>data table notebook</a>'\n",
              "            + ' to learn more about interactive tables.';\n",
              "          element.innerHTML = '';\n",
              "          dataTable['output_type'] = 'display_data';\n",
              "          await google.colab.output.renderOutput(dataTable, element);\n",
              "          const docLink = document.createElement('div');\n",
              "          docLink.innerHTML = docLinkHtml;\n",
              "          element.appendChild(docLink);\n",
              "        }\n",
              "      </script>\n",
              "    </div>\n",
              "  </div>\n",
              "  "
            ]
          },
          "metadata": {},
          "execution_count": 15
        }
      ]
    },
    {
      "cell_type": "code",
      "source": [
        "df.isnull().sum()"
      ],
      "metadata": {
        "colab": {
          "base_uri": "https://localhost:8080/"
        },
        "id": "Wip4Yud_0uHJ",
        "outputId": "1b4fc5bb-4ebb-46d0-a72d-41153760bc66"
      },
      "execution_count": 16,
      "outputs": [
        {
          "output_type": "execute_result",
          "data": {
            "text/plain": [
              "Index           0\n",
              "Date            0\n",
              "Open         2204\n",
              "High         2204\n",
              "Low          2204\n",
              "Close        2204\n",
              "Adj Close    2204\n",
              "Volume       2204\n",
              "dtype: int64"
            ]
          },
          "metadata": {},
          "execution_count": 16
        }
      ]
    },
    {
      "cell_type": "code",
      "source": [
        "df[\"Date\"]"
      ],
      "metadata": {
        "colab": {
          "base_uri": "https://localhost:8080/"
        },
        "id": "dX4MdBYE1G2Q",
        "outputId": "ffa419d9-bf62-42cc-f40f-c9904abc29ea"
      },
      "execution_count": 17,
      "outputs": [
        {
          "output_type": "execute_result",
          "data": {
            "text/plain": [
              "0         1965-12-31\n",
              "1         1966-01-03\n",
              "2         1966-01-04\n",
              "3         1966-01-05\n",
              "4         1966-01-06\n",
              "             ...    \n",
              "112452    2021-05-27\n",
              "112453    2021-05-28\n",
              "112454    2021-05-31\n",
              "112455    2021-06-01\n",
              "112456    2021-06-02\n",
              "Name: Date, Length: 112457, dtype: object"
            ]
          },
          "metadata": {},
          "execution_count": 17
        }
      ]
    },
    {
      "cell_type": "code",
      "source": [
        "df[\"Date\"] = pd.to_datetime(df[\"Date\"])"
      ],
      "metadata": {
        "id": "ILZY0aef07ZH"
      },
      "execution_count": 18,
      "outputs": []
    },
    {
      "cell_type": "code",
      "source": [
        "df[\"Date\"]"
      ],
      "metadata": {
        "colab": {
          "base_uri": "https://localhost:8080/"
        },
        "id": "jmJYVSfljswO",
        "outputId": "9e8f9104-0c17-4990-f568-14e3dc30c1a7"
      },
      "execution_count": 19,
      "outputs": [
        {
          "output_type": "execute_result",
          "data": {
            "text/plain": [
              "0        1965-12-31\n",
              "1        1966-01-03\n",
              "2        1966-01-04\n",
              "3        1966-01-05\n",
              "4        1966-01-06\n",
              "            ...    \n",
              "112452   2021-05-27\n",
              "112453   2021-05-28\n",
              "112454   2021-05-31\n",
              "112455   2021-06-01\n",
              "112456   2021-06-02\n",
              "Name: Date, Length: 112457, dtype: datetime64[ns]"
            ]
          },
          "metadata": {},
          "execution_count": 19
        }
      ]
    },
    {
      "cell_type": "code",
      "source": [
        "df[\"Index\"].isin(['NYA'])"
      ],
      "metadata": {
        "colab": {
          "base_uri": "https://localhost:8080/"
        },
        "id": "pWirp6h2lUNK",
        "outputId": "c281cdcd-447e-4740-fae1-76db65466684"
      },
      "execution_count": 20,
      "outputs": [
        {
          "output_type": "execute_result",
          "data": {
            "text/plain": [
              "0          True\n",
              "1          True\n",
              "2          True\n",
              "3          True\n",
              "4          True\n",
              "          ...  \n",
              "112452    False\n",
              "112453    False\n",
              "112454    False\n",
              "112455    False\n",
              "112456    False\n",
              "Name: Index, Length: 112457, dtype: bool"
            ]
          },
          "metadata": {},
          "execution_count": 20
        }
      ]
    },
    {
      "cell_type": "code",
      "source": [
        "df[df[\"Index\"].isin(['NYA'])]## select True role from table"
      ],
      "metadata": {
        "colab": {
          "base_uri": "https://localhost:8080/",
          "height": 424
        },
        "id": "cBfE07hIyKUP",
        "outputId": "140e6cb9-dedd-41ce-9526-cdc20ecfdfe2"
      },
      "execution_count": 21,
      "outputs": [
        {
          "output_type": "execute_result",
          "data": {
            "text/plain": [
              "      Index       Date          Open          High           Low  \\\n",
              "0       NYA 1965-12-31    528.690002    528.690002    528.690002   \n",
              "1       NYA 1966-01-03    527.210022    527.210022    527.210022   \n",
              "2       NYA 1966-01-04    527.840027    527.840027    527.840027   \n",
              "3       NYA 1966-01-05    531.119995    531.119995    531.119995   \n",
              "4       NYA 1966-01-06    532.070007    532.070007    532.070007   \n",
              "...     ...        ...           ...           ...           ...   \n",
              "13943   NYA 2021-05-24  16375.000000  16508.519530  16375.000000   \n",
              "13944   NYA 2021-05-25  16464.689450  16525.810550  16375.150390   \n",
              "13945   NYA 2021-05-26  16390.189450  16466.339840  16388.320310   \n",
              "13946   NYA 2021-05-27  16451.960940  16546.359380  16451.960940   \n",
              "13947   NYA 2021-05-28  16531.949220  16588.689450  16531.949220   \n",
              "\n",
              "              Close     Adj Close        Volume  \n",
              "0        528.690002    528.690002  0.000000e+00  \n",
              "1        527.210022    527.210022  0.000000e+00  \n",
              "2        527.840027    527.840027  0.000000e+00  \n",
              "3        531.119995    531.119995  0.000000e+00  \n",
              "4        532.070007    532.070007  0.000000e+00  \n",
              "...             ...           ...           ...  \n",
              "13943  16464.689450  16464.689450  2.947400e+09  \n",
              "13944  16390.189450  16390.189450  3.420870e+09  \n",
              "13945  16451.960940  16451.960940  3.674490e+09  \n",
              "13946  16531.949220  16531.949220  5.201110e+09  \n",
              "13947  16555.660160  16555.660160  4.199270e+09  \n",
              "\n",
              "[13948 rows x 8 columns]"
            ],
            "text/html": [
              "\n",
              "  <div id=\"df-a7050911-6584-4310-bd4a-031a6ec4f31e\">\n",
              "    <div class=\"colab-df-container\">\n",
              "      <div>\n",
              "<style scoped>\n",
              "    .dataframe tbody tr th:only-of-type {\n",
              "        vertical-align: middle;\n",
              "    }\n",
              "\n",
              "    .dataframe tbody tr th {\n",
              "        vertical-align: top;\n",
              "    }\n",
              "\n",
              "    .dataframe thead th {\n",
              "        text-align: right;\n",
              "    }\n",
              "</style>\n",
              "<table border=\"1\" class=\"dataframe\">\n",
              "  <thead>\n",
              "    <tr style=\"text-align: right;\">\n",
              "      <th></th>\n",
              "      <th>Index</th>\n",
              "      <th>Date</th>\n",
              "      <th>Open</th>\n",
              "      <th>High</th>\n",
              "      <th>Low</th>\n",
              "      <th>Close</th>\n",
              "      <th>Adj Close</th>\n",
              "      <th>Volume</th>\n",
              "    </tr>\n",
              "  </thead>\n",
              "  <tbody>\n",
              "    <tr>\n",
              "      <th>0</th>\n",
              "      <td>NYA</td>\n",
              "      <td>1965-12-31</td>\n",
              "      <td>528.690002</td>\n",
              "      <td>528.690002</td>\n",
              "      <td>528.690002</td>\n",
              "      <td>528.690002</td>\n",
              "      <td>528.690002</td>\n",
              "      <td>0.000000e+00</td>\n",
              "    </tr>\n",
              "    <tr>\n",
              "      <th>1</th>\n",
              "      <td>NYA</td>\n",
              "      <td>1966-01-03</td>\n",
              "      <td>527.210022</td>\n",
              "      <td>527.210022</td>\n",
              "      <td>527.210022</td>\n",
              "      <td>527.210022</td>\n",
              "      <td>527.210022</td>\n",
              "      <td>0.000000e+00</td>\n",
              "    </tr>\n",
              "    <tr>\n",
              "      <th>2</th>\n",
              "      <td>NYA</td>\n",
              "      <td>1966-01-04</td>\n",
              "      <td>527.840027</td>\n",
              "      <td>527.840027</td>\n",
              "      <td>527.840027</td>\n",
              "      <td>527.840027</td>\n",
              "      <td>527.840027</td>\n",
              "      <td>0.000000e+00</td>\n",
              "    </tr>\n",
              "    <tr>\n",
              "      <th>3</th>\n",
              "      <td>NYA</td>\n",
              "      <td>1966-01-05</td>\n",
              "      <td>531.119995</td>\n",
              "      <td>531.119995</td>\n",
              "      <td>531.119995</td>\n",
              "      <td>531.119995</td>\n",
              "      <td>531.119995</td>\n",
              "      <td>0.000000e+00</td>\n",
              "    </tr>\n",
              "    <tr>\n",
              "      <th>4</th>\n",
              "      <td>NYA</td>\n",
              "      <td>1966-01-06</td>\n",
              "      <td>532.070007</td>\n",
              "      <td>532.070007</td>\n",
              "      <td>532.070007</td>\n",
              "      <td>532.070007</td>\n",
              "      <td>532.070007</td>\n",
              "      <td>0.000000e+00</td>\n",
              "    </tr>\n",
              "    <tr>\n",
              "      <th>...</th>\n",
              "      <td>...</td>\n",
              "      <td>...</td>\n",
              "      <td>...</td>\n",
              "      <td>...</td>\n",
              "      <td>...</td>\n",
              "      <td>...</td>\n",
              "      <td>...</td>\n",
              "      <td>...</td>\n",
              "    </tr>\n",
              "    <tr>\n",
              "      <th>13943</th>\n",
              "      <td>NYA</td>\n",
              "      <td>2021-05-24</td>\n",
              "      <td>16375.000000</td>\n",
              "      <td>16508.519530</td>\n",
              "      <td>16375.000000</td>\n",
              "      <td>16464.689450</td>\n",
              "      <td>16464.689450</td>\n",
              "      <td>2.947400e+09</td>\n",
              "    </tr>\n",
              "    <tr>\n",
              "      <th>13944</th>\n",
              "      <td>NYA</td>\n",
              "      <td>2021-05-25</td>\n",
              "      <td>16464.689450</td>\n",
              "      <td>16525.810550</td>\n",
              "      <td>16375.150390</td>\n",
              "      <td>16390.189450</td>\n",
              "      <td>16390.189450</td>\n",
              "      <td>3.420870e+09</td>\n",
              "    </tr>\n",
              "    <tr>\n",
              "      <th>13945</th>\n",
              "      <td>NYA</td>\n",
              "      <td>2021-05-26</td>\n",
              "      <td>16390.189450</td>\n",
              "      <td>16466.339840</td>\n",
              "      <td>16388.320310</td>\n",
              "      <td>16451.960940</td>\n",
              "      <td>16451.960940</td>\n",
              "      <td>3.674490e+09</td>\n",
              "    </tr>\n",
              "    <tr>\n",
              "      <th>13946</th>\n",
              "      <td>NYA</td>\n",
              "      <td>2021-05-27</td>\n",
              "      <td>16451.960940</td>\n",
              "      <td>16546.359380</td>\n",
              "      <td>16451.960940</td>\n",
              "      <td>16531.949220</td>\n",
              "      <td>16531.949220</td>\n",
              "      <td>5.201110e+09</td>\n",
              "    </tr>\n",
              "    <tr>\n",
              "      <th>13947</th>\n",
              "      <td>NYA</td>\n",
              "      <td>2021-05-28</td>\n",
              "      <td>16531.949220</td>\n",
              "      <td>16588.689450</td>\n",
              "      <td>16531.949220</td>\n",
              "      <td>16555.660160</td>\n",
              "      <td>16555.660160</td>\n",
              "      <td>4.199270e+09</td>\n",
              "    </tr>\n",
              "  </tbody>\n",
              "</table>\n",
              "<p>13948 rows × 8 columns</p>\n",
              "</div>\n",
              "      <button class=\"colab-df-convert\" onclick=\"convertToInteractive('df-a7050911-6584-4310-bd4a-031a6ec4f31e')\"\n",
              "              title=\"Convert this dataframe to an interactive table.\"\n",
              "              style=\"display:none;\">\n",
              "        \n",
              "  <svg xmlns=\"http://www.w3.org/2000/svg\" height=\"24px\"viewBox=\"0 0 24 24\"\n",
              "       width=\"24px\">\n",
              "    <path d=\"M0 0h24v24H0V0z\" fill=\"none\"/>\n",
              "    <path d=\"M18.56 5.44l.94 2.06.94-2.06 2.06-.94-2.06-.94-.94-2.06-.94 2.06-2.06.94zm-11 1L8.5 8.5l.94-2.06 2.06-.94-2.06-.94L8.5 2.5l-.94 2.06-2.06.94zm10 10l.94 2.06.94-2.06 2.06-.94-2.06-.94-.94-2.06-.94 2.06-2.06.94z\"/><path d=\"M17.41 7.96l-1.37-1.37c-.4-.4-.92-.59-1.43-.59-.52 0-1.04.2-1.43.59L10.3 9.45l-7.72 7.72c-.78.78-.78 2.05 0 2.83L4 21.41c.39.39.9.59 1.41.59.51 0 1.02-.2 1.41-.59l7.78-7.78 2.81-2.81c.8-.78.8-2.07 0-2.86zM5.41 20L4 18.59l7.72-7.72 1.47 1.35L5.41 20z\"/>\n",
              "  </svg>\n",
              "      </button>\n",
              "      \n",
              "  <style>\n",
              "    .colab-df-container {\n",
              "      display:flex;\n",
              "      flex-wrap:wrap;\n",
              "      gap: 12px;\n",
              "    }\n",
              "\n",
              "    .colab-df-convert {\n",
              "      background-color: #E8F0FE;\n",
              "      border: none;\n",
              "      border-radius: 50%;\n",
              "      cursor: pointer;\n",
              "      display: none;\n",
              "      fill: #1967D2;\n",
              "      height: 32px;\n",
              "      padding: 0 0 0 0;\n",
              "      width: 32px;\n",
              "    }\n",
              "\n",
              "    .colab-df-convert:hover {\n",
              "      background-color: #E2EBFA;\n",
              "      box-shadow: 0px 1px 2px rgba(60, 64, 67, 0.3), 0px 1px 3px 1px rgba(60, 64, 67, 0.15);\n",
              "      fill: #174EA6;\n",
              "    }\n",
              "\n",
              "    [theme=dark] .colab-df-convert {\n",
              "      background-color: #3B4455;\n",
              "      fill: #D2E3FC;\n",
              "    }\n",
              "\n",
              "    [theme=dark] .colab-df-convert:hover {\n",
              "      background-color: #434B5C;\n",
              "      box-shadow: 0px 1px 3px 1px rgba(0, 0, 0, 0.15);\n",
              "      filter: drop-shadow(0px 1px 2px rgba(0, 0, 0, 0.3));\n",
              "      fill: #FFFFFF;\n",
              "    }\n",
              "  </style>\n",
              "\n",
              "      <script>\n",
              "        const buttonEl =\n",
              "          document.querySelector('#df-a7050911-6584-4310-bd4a-031a6ec4f31e button.colab-df-convert');\n",
              "        buttonEl.style.display =\n",
              "          google.colab.kernel.accessAllowed ? 'block' : 'none';\n",
              "\n",
              "        async function convertToInteractive(key) {\n",
              "          const element = document.querySelector('#df-a7050911-6584-4310-bd4a-031a6ec4f31e');\n",
              "          const dataTable =\n",
              "            await google.colab.kernel.invokeFunction('convertToInteractive',\n",
              "                                                     [key], {});\n",
              "          if (!dataTable) return;\n",
              "\n",
              "          const docLinkHtml = 'Like what you see? Visit the ' +\n",
              "            '<a target=\"_blank\" href=https://colab.research.google.com/notebooks/data_table.ipynb>data table notebook</a>'\n",
              "            + ' to learn more about interactive tables.';\n",
              "          element.innerHTML = '';\n",
              "          dataTable['output_type'] = 'display_data';\n",
              "          await google.colab.output.renderOutput(dataTable, element);\n",
              "          const docLink = document.createElement('div');\n",
              "          docLink.innerHTML = docLinkHtml;\n",
              "          element.appendChild(docLink);\n",
              "        }\n",
              "      </script>\n",
              "    </div>\n",
              "  </div>\n",
              "  "
            ]
          },
          "metadata": {},
          "execution_count": 21
        }
      ]
    },
    {
      "cell_type": "code",
      "source": [
        "df_NYA = df[df[\"Index\"].isin(['NYA'])].sort_values('Date')"
      ],
      "metadata": {
        "id": "POFDuiY21ka1"
      },
      "execution_count": 22,
      "outputs": []
    },
    {
      "cell_type": "code",
      "source": [
        "df_NYA"
      ],
      "metadata": {
        "colab": {
          "base_uri": "https://localhost:8080/",
          "height": 424
        },
        "id": "CnFhWjcs5uE4",
        "outputId": "9bba84e8-1112-426e-9cee-c8bd2ec5b1e8"
      },
      "execution_count": 23,
      "outputs": [
        {
          "output_type": "execute_result",
          "data": {
            "text/plain": [
              "      Index       Date          Open          High           Low  \\\n",
              "0       NYA 1965-12-31    528.690002    528.690002    528.690002   \n",
              "1       NYA 1966-01-03    527.210022    527.210022    527.210022   \n",
              "2       NYA 1966-01-04    527.840027    527.840027    527.840027   \n",
              "3       NYA 1966-01-05    531.119995    531.119995    531.119995   \n",
              "4       NYA 1966-01-06    532.070007    532.070007    532.070007   \n",
              "...     ...        ...           ...           ...           ...   \n",
              "13943   NYA 2021-05-24  16375.000000  16508.519530  16375.000000   \n",
              "13944   NYA 2021-05-25  16464.689450  16525.810550  16375.150390   \n",
              "13945   NYA 2021-05-26  16390.189450  16466.339840  16388.320310   \n",
              "13946   NYA 2021-05-27  16451.960940  16546.359380  16451.960940   \n",
              "13947   NYA 2021-05-28  16531.949220  16588.689450  16531.949220   \n",
              "\n",
              "              Close     Adj Close        Volume  \n",
              "0        528.690002    528.690002  0.000000e+00  \n",
              "1        527.210022    527.210022  0.000000e+00  \n",
              "2        527.840027    527.840027  0.000000e+00  \n",
              "3        531.119995    531.119995  0.000000e+00  \n",
              "4        532.070007    532.070007  0.000000e+00  \n",
              "...             ...           ...           ...  \n",
              "13943  16464.689450  16464.689450  2.947400e+09  \n",
              "13944  16390.189450  16390.189450  3.420870e+09  \n",
              "13945  16451.960940  16451.960940  3.674490e+09  \n",
              "13946  16531.949220  16531.949220  5.201110e+09  \n",
              "13947  16555.660160  16555.660160  4.199270e+09  \n",
              "\n",
              "[13948 rows x 8 columns]"
            ],
            "text/html": [
              "\n",
              "  <div id=\"df-ddbefa95-6062-4d2c-aa77-8286860a16c2\">\n",
              "    <div class=\"colab-df-container\">\n",
              "      <div>\n",
              "<style scoped>\n",
              "    .dataframe tbody tr th:only-of-type {\n",
              "        vertical-align: middle;\n",
              "    }\n",
              "\n",
              "    .dataframe tbody tr th {\n",
              "        vertical-align: top;\n",
              "    }\n",
              "\n",
              "    .dataframe thead th {\n",
              "        text-align: right;\n",
              "    }\n",
              "</style>\n",
              "<table border=\"1\" class=\"dataframe\">\n",
              "  <thead>\n",
              "    <tr style=\"text-align: right;\">\n",
              "      <th></th>\n",
              "      <th>Index</th>\n",
              "      <th>Date</th>\n",
              "      <th>Open</th>\n",
              "      <th>High</th>\n",
              "      <th>Low</th>\n",
              "      <th>Close</th>\n",
              "      <th>Adj Close</th>\n",
              "      <th>Volume</th>\n",
              "    </tr>\n",
              "  </thead>\n",
              "  <tbody>\n",
              "    <tr>\n",
              "      <th>0</th>\n",
              "      <td>NYA</td>\n",
              "      <td>1965-12-31</td>\n",
              "      <td>528.690002</td>\n",
              "      <td>528.690002</td>\n",
              "      <td>528.690002</td>\n",
              "      <td>528.690002</td>\n",
              "      <td>528.690002</td>\n",
              "      <td>0.000000e+00</td>\n",
              "    </tr>\n",
              "    <tr>\n",
              "      <th>1</th>\n",
              "      <td>NYA</td>\n",
              "      <td>1966-01-03</td>\n",
              "      <td>527.210022</td>\n",
              "      <td>527.210022</td>\n",
              "      <td>527.210022</td>\n",
              "      <td>527.210022</td>\n",
              "      <td>527.210022</td>\n",
              "      <td>0.000000e+00</td>\n",
              "    </tr>\n",
              "    <tr>\n",
              "      <th>2</th>\n",
              "      <td>NYA</td>\n",
              "      <td>1966-01-04</td>\n",
              "      <td>527.840027</td>\n",
              "      <td>527.840027</td>\n",
              "      <td>527.840027</td>\n",
              "      <td>527.840027</td>\n",
              "      <td>527.840027</td>\n",
              "      <td>0.000000e+00</td>\n",
              "    </tr>\n",
              "    <tr>\n",
              "      <th>3</th>\n",
              "      <td>NYA</td>\n",
              "      <td>1966-01-05</td>\n",
              "      <td>531.119995</td>\n",
              "      <td>531.119995</td>\n",
              "      <td>531.119995</td>\n",
              "      <td>531.119995</td>\n",
              "      <td>531.119995</td>\n",
              "      <td>0.000000e+00</td>\n",
              "    </tr>\n",
              "    <tr>\n",
              "      <th>4</th>\n",
              "      <td>NYA</td>\n",
              "      <td>1966-01-06</td>\n",
              "      <td>532.070007</td>\n",
              "      <td>532.070007</td>\n",
              "      <td>532.070007</td>\n",
              "      <td>532.070007</td>\n",
              "      <td>532.070007</td>\n",
              "      <td>0.000000e+00</td>\n",
              "    </tr>\n",
              "    <tr>\n",
              "      <th>...</th>\n",
              "      <td>...</td>\n",
              "      <td>...</td>\n",
              "      <td>...</td>\n",
              "      <td>...</td>\n",
              "      <td>...</td>\n",
              "      <td>...</td>\n",
              "      <td>...</td>\n",
              "      <td>...</td>\n",
              "    </tr>\n",
              "    <tr>\n",
              "      <th>13943</th>\n",
              "      <td>NYA</td>\n",
              "      <td>2021-05-24</td>\n",
              "      <td>16375.000000</td>\n",
              "      <td>16508.519530</td>\n",
              "      <td>16375.000000</td>\n",
              "      <td>16464.689450</td>\n",
              "      <td>16464.689450</td>\n",
              "      <td>2.947400e+09</td>\n",
              "    </tr>\n",
              "    <tr>\n",
              "      <th>13944</th>\n",
              "      <td>NYA</td>\n",
              "      <td>2021-05-25</td>\n",
              "      <td>16464.689450</td>\n",
              "      <td>16525.810550</td>\n",
              "      <td>16375.150390</td>\n",
              "      <td>16390.189450</td>\n",
              "      <td>16390.189450</td>\n",
              "      <td>3.420870e+09</td>\n",
              "    </tr>\n",
              "    <tr>\n",
              "      <th>13945</th>\n",
              "      <td>NYA</td>\n",
              "      <td>2021-05-26</td>\n",
              "      <td>16390.189450</td>\n",
              "      <td>16466.339840</td>\n",
              "      <td>16388.320310</td>\n",
              "      <td>16451.960940</td>\n",
              "      <td>16451.960940</td>\n",
              "      <td>3.674490e+09</td>\n",
              "    </tr>\n",
              "    <tr>\n",
              "      <th>13946</th>\n",
              "      <td>NYA</td>\n",
              "      <td>2021-05-27</td>\n",
              "      <td>16451.960940</td>\n",
              "      <td>16546.359380</td>\n",
              "      <td>16451.960940</td>\n",
              "      <td>16531.949220</td>\n",
              "      <td>16531.949220</td>\n",
              "      <td>5.201110e+09</td>\n",
              "    </tr>\n",
              "    <tr>\n",
              "      <th>13947</th>\n",
              "      <td>NYA</td>\n",
              "      <td>2021-05-28</td>\n",
              "      <td>16531.949220</td>\n",
              "      <td>16588.689450</td>\n",
              "      <td>16531.949220</td>\n",
              "      <td>16555.660160</td>\n",
              "      <td>16555.660160</td>\n",
              "      <td>4.199270e+09</td>\n",
              "    </tr>\n",
              "  </tbody>\n",
              "</table>\n",
              "<p>13948 rows × 8 columns</p>\n",
              "</div>\n",
              "      <button class=\"colab-df-convert\" onclick=\"convertToInteractive('df-ddbefa95-6062-4d2c-aa77-8286860a16c2')\"\n",
              "              title=\"Convert this dataframe to an interactive table.\"\n",
              "              style=\"display:none;\">\n",
              "        \n",
              "  <svg xmlns=\"http://www.w3.org/2000/svg\" height=\"24px\"viewBox=\"0 0 24 24\"\n",
              "       width=\"24px\">\n",
              "    <path d=\"M0 0h24v24H0V0z\" fill=\"none\"/>\n",
              "    <path d=\"M18.56 5.44l.94 2.06.94-2.06 2.06-.94-2.06-.94-.94-2.06-.94 2.06-2.06.94zm-11 1L8.5 8.5l.94-2.06 2.06-.94-2.06-.94L8.5 2.5l-.94 2.06-2.06.94zm10 10l.94 2.06.94-2.06 2.06-.94-2.06-.94-.94-2.06-.94 2.06-2.06.94z\"/><path d=\"M17.41 7.96l-1.37-1.37c-.4-.4-.92-.59-1.43-.59-.52 0-1.04.2-1.43.59L10.3 9.45l-7.72 7.72c-.78.78-.78 2.05 0 2.83L4 21.41c.39.39.9.59 1.41.59.51 0 1.02-.2 1.41-.59l7.78-7.78 2.81-2.81c.8-.78.8-2.07 0-2.86zM5.41 20L4 18.59l7.72-7.72 1.47 1.35L5.41 20z\"/>\n",
              "  </svg>\n",
              "      </button>\n",
              "      \n",
              "  <style>\n",
              "    .colab-df-container {\n",
              "      display:flex;\n",
              "      flex-wrap:wrap;\n",
              "      gap: 12px;\n",
              "    }\n",
              "\n",
              "    .colab-df-convert {\n",
              "      background-color: #E8F0FE;\n",
              "      border: none;\n",
              "      border-radius: 50%;\n",
              "      cursor: pointer;\n",
              "      display: none;\n",
              "      fill: #1967D2;\n",
              "      height: 32px;\n",
              "      padding: 0 0 0 0;\n",
              "      width: 32px;\n",
              "    }\n",
              "\n",
              "    .colab-df-convert:hover {\n",
              "      background-color: #E2EBFA;\n",
              "      box-shadow: 0px 1px 2px rgba(60, 64, 67, 0.3), 0px 1px 3px 1px rgba(60, 64, 67, 0.15);\n",
              "      fill: #174EA6;\n",
              "    }\n",
              "\n",
              "    [theme=dark] .colab-df-convert {\n",
              "      background-color: #3B4455;\n",
              "      fill: #D2E3FC;\n",
              "    }\n",
              "\n",
              "    [theme=dark] .colab-df-convert:hover {\n",
              "      background-color: #434B5C;\n",
              "      box-shadow: 0px 1px 3px 1px rgba(0, 0, 0, 0.15);\n",
              "      filter: drop-shadow(0px 1px 2px rgba(0, 0, 0, 0.3));\n",
              "      fill: #FFFFFF;\n",
              "    }\n",
              "  </style>\n",
              "\n",
              "      <script>\n",
              "        const buttonEl =\n",
              "          document.querySelector('#df-ddbefa95-6062-4d2c-aa77-8286860a16c2 button.colab-df-convert');\n",
              "        buttonEl.style.display =\n",
              "          google.colab.kernel.accessAllowed ? 'block' : 'none';\n",
              "\n",
              "        async function convertToInteractive(key) {\n",
              "          const element = document.querySelector('#df-ddbefa95-6062-4d2c-aa77-8286860a16c2');\n",
              "          const dataTable =\n",
              "            await google.colab.kernel.invokeFunction('convertToInteractive',\n",
              "                                                     [key], {});\n",
              "          if (!dataTable) return;\n",
              "\n",
              "          const docLinkHtml = 'Like what you see? Visit the ' +\n",
              "            '<a target=\"_blank\" href=https://colab.research.google.com/notebooks/data_table.ipynb>data table notebook</a>'\n",
              "            + ' to learn more about interactive tables.';\n",
              "          element.innerHTML = '';\n",
              "          dataTable['output_type'] = 'display_data';\n",
              "          await google.colab.output.renderOutput(dataTable, element);\n",
              "          const docLink = document.createElement('div');\n",
              "          docLink.innerHTML = docLinkHtml;\n",
              "          element.appendChild(docLink);\n",
              "        }\n",
              "      </script>\n",
              "    </div>\n",
              "  </div>\n",
              "  "
            ]
          },
          "metadata": {},
          "execution_count": 23
        }
      ]
    },
    {
      "cell_type": "code",
      "source": [
        "plt.plot(df_NYA[\"Date\"],df_NYA[\"High\"],label='Row Data') "
      ],
      "metadata": {
        "colab": {
          "base_uri": "https://localhost:8080/",
          "height": 282
        },
        "id": "Rjq6Bqcz2pGh",
        "outputId": "50874aac-9b38-41cb-9094-447b5ed3cc4b"
      },
      "execution_count": 24,
      "outputs": [
        {
          "output_type": "execute_result",
          "data": {
            "text/plain": [
              "[<matplotlib.lines.Line2D at 0x7f1b5f0a6af0>]"
            ]
          },
          "metadata": {},
          "execution_count": 24
        },
        {
          "output_type": "display_data",
          "data": {
            "text/plain": [
              "<Figure size 432x288 with 1 Axes>"
            ],
            "image/png": "[encoded data removed]"
          },
          "metadata": {
            "needs_background": "light"
          }
        }
      ]
    },
    {
      "cell_type": "code",
      "source": [
        "df_NYA"
      ],
      "metadata": {
        "colab": {
          "base_uri": "https://localhost:8080/",
          "height": 424
        },
        "id": "o_nmt7OrprMW",
        "outputId": "95580636-a74e-4024-fe8a-e6715f9e6c69"
      },
      "execution_count": 25,
      "outputs": [
        {
          "output_type": "execute_result",
          "data": {
            "text/plain": [
              "      Index       Date          Open          High           Low  \\\n",
              "0       NYA 1965-12-31    528.690002    528.690002    528.690002   \n",
              "1       NYA 1966-01-03    527.210022    527.210022    527.210022   \n",
              "2       NYA 1966-01-04    527.840027    527.840027    527.840027   \n",
              "3       NYA 1966-01-05    531.119995    531.119995    531.119995   \n",
              "4       NYA 1966-01-06    532.070007    532.070007    532.070007   \n",
              "...     ...        ...           ...           ...           ...   \n",
              "13943   NYA 2021-05-24  16375.000000  16508.519530  16375.000000   \n",
              "13944   NYA 2021-05-25  16464.689450  16525.810550  16375.150390   \n",
              "13945   NYA 2021-05-26  16390.189450  16466.339840  16388.320310   \n",
              "13946   NYA 2021-05-27  16451.960940  16546.359380  16451.960940   \n",
              "13947   NYA 2021-05-28  16531.949220  16588.689450  16531.949220   \n",
              "\n",
              "              Close     Adj Close        Volume  \n",
              "0        528.690002    528.690002  0.000000e+00  \n",
              "1        527.210022    527.210022  0.000000e+00  \n",
              "2        527.840027    527.840027  0.000000e+00  \n",
              "3        531.119995    531.119995  0.000000e+00  \n",
              "4        532.070007    532.070007  0.000000e+00  \n",
              "...             ...           ...           ...  \n",
              "13943  16464.689450  16464.689450  2.947400e+09  \n",
              "13944  16390.189450  16390.189450  3.420870e+09  \n",
              "13945  16451.960940  16451.960940  3.674490e+09  \n",
              "13946  16531.949220  16531.949220  5.201110e+09  \n",
              "13947  16555.660160  16555.660160  4.199270e+09  \n",
              "\n",
              "[13948 rows x 8 columns]"
            ],
            "text/html": [
              "\n",
              "  <div id=\"df-d7482d8c-fc55-45db-b310-64847d9aa50a\">\n",
              "    <div class=\"colab-df-container\">\n",
              "      <div>\n",
              "<style scoped>\n",
              "    .dataframe tbody tr th:only-of-type {\n",
              "        vertical-align: middle;\n",
              "    }\n",
              "\n",
              "    .dataframe tbody tr th {\n",
              "        vertical-align: top;\n",
              "    }\n",
              "\n",
              "    .dataframe thead th {\n",
              "        text-align: right;\n",
              "    }\n",
              "</style>\n",
              "<table border=\"1\" class=\"dataframe\">\n",
              "  <thead>\n",
              "    <tr style=\"text-align: right;\">\n",
              "      <th></th>\n",
              "      <th>Index</th>\n",
              "      <th>Date</th>\n",
              "      <th>Open</th>\n",
              "      <th>High</th>\n",
              "      <th>Low</th>\n",
              "      <th>Close</th>\n",
              "      <th>Adj Close</th>\n",
              "      <th>Volume</th>\n",
              "    </tr>\n",
              "  </thead>\n",
              "  <tbody>\n",
              "    <tr>\n",
              "      <th>0</th>\n",
              "      <td>NYA</td>\n",
              "      <td>1965-12-31</td>\n",
              "      <td>528.690002</td>\n",
              "      <td>528.690002</td>\n",
              "      <td>528.690002</td>\n",
              "      <td>528.690002</td>\n",
              "      <td>528.690002</td>\n",
              "      <td>0.000000e+00</td>\n",
              "    </tr>\n",
              "    <tr>\n",
              "      <th>1</th>\n",
              "      <td>NYA</td>\n",
              "      <td>1966-01-03</td>\n",
              "      <td>527.210022</td>\n",
              "      <td>527.210022</td>\n",
              "      <td>527.210022</td>\n",
              "      <td>527.210022</td>\n",
              "      <td>527.210022</td>\n",
              "      <td>0.000000e+00</td>\n",
              "    </tr>\n",
              "    <tr>\n",
              "      <th>2</th>\n",
              "      <td>NYA</td>\n",
              "      <td>1966-01-04</td>\n",
              "      <td>527.840027</td>\n",
              "      <td>527.840027</td>\n",
              "      <td>527.840027</td>\n",
              "      <td>527.840027</td>\n",
              "      <td>527.840027</td>\n",
              "      <td>0.000000e+00</td>\n",
              "    </tr>\n",
              "    <tr>\n",
              "      <th>3</th>\n",
              "      <td>NYA</td>\n",
              "      <td>1966-01-05</td>\n",
              "      <td>531.119995</td>\n",
              "      <td>531.119995</td>\n",
              "      <td>531.119995</td>\n",
              "      <td>531.119995</td>\n",
              "      <td>531.119995</td>\n",
              "      <td>0.000000e+00</td>\n",
              "    </tr>\n",
              "    <tr>\n",
              "      <th>4</th>\n",
              "      <td>NYA</td>\n",
              "      <td>1966-01-06</td>\n",
              "      <td>532.070007</td>\n",
              "      <td>532.070007</td>\n",
              "      <td>532.070007</td>\n",
              "      <td>532.070007</td>\n",
              "      <td>532.070007</td>\n",
              "      <td>0.000000e+00</td>\n",
              "    </tr>\n",
              "    <tr>\n",
              "      <th>...</th>\n",
              "      <td>...</td>\n",
              "      <td>...</td>\n",
              "      <td>...</td>\n",
              "      <td>...</td>\n",
              "      <td>...</td>\n",
              "      <td>...</td>\n",
              "      <td>...</td>\n",
              "      <td>...</td>\n",
              "    </tr>\n",
              "    <tr>\n",
              "      <th>13943</th>\n",
              "      <td>NYA</td>\n",
              "      <td>2021-05-24</td>\n",
              "      <td>16375.000000</td>\n",
              "      <td>16508.519530</td>\n",
              "      <td>16375.000000</td>\n",
              "      <td>16464.689450</td>\n",
              "      <td>16464.689450</td>\n",
              "      <td>2.947400e+09</td>\n",
              "    </tr>\n",
              "    <tr>\n",
              "      <th>13944</th>\n",
              "      <td>NYA</td>\n",
              "      <td>2021-05-25</td>\n",
              "      <td>16464.689450</td>\n",
              "      <td>16525.810550</td>\n",
              "      <td>16375.150390</td>\n",
              "      <td>16390.189450</td>\n",
              "      <td>16390.189450</td>\n",
              "      <td>3.420870e+09</td>\n",
              "    </tr>\n",
              "    <tr>\n",
              "      <th>13945</th>\n",
              "      <td>NYA</td>\n",
              "      <td>2021-05-26</td>\n",
              "      <td>16390.189450</td>\n",
              "      <td>16466.339840</td>\n",
              "      <td>16388.320310</td>\n",
              "      <td>16451.960940</td>\n",
              "      <td>16451.960940</td>\n",
              "      <td>3.674490e+09</td>\n",
              "    </tr>\n",
              "    <tr>\n",
              "      <th>13946</th>\n",
              "      <td>NYA</td>\n",
              "      <td>2021-05-27</td>\n",
              "      <td>16451.960940</td>\n",
              "      <td>16546.359380</td>\n",
              "      <td>16451.960940</td>\n",
              "      <td>16531.949220</td>\n",
              "      <td>16531.949220</td>\n",
              "      <td>5.201110e+09</td>\n",
              "    </tr>\n",
              "    <tr>\n",
              "      <th>13947</th>\n",
              "      <td>NYA</td>\n",
              "      <td>2021-05-28</td>\n",
              "      <td>16531.949220</td>\n",
              "      <td>16588.689450</td>\n",
              "      <td>16531.949220</td>\n",
              "      <td>16555.660160</td>\n",
              "      <td>16555.660160</td>\n",
              "      <td>4.199270e+09</td>\n",
              "    </tr>\n",
              "  </tbody>\n",
              "</table>\n",
              "<p>13948 rows × 8 columns</p>\n",
              "</div>\n",
              "      <button class=\"colab-df-convert\" onclick=\"convertToInteractive('df-d7482d8c-fc55-45db-b310-64847d9aa50a')\"\n",
              "              title=\"Convert this dataframe to an interactive table.\"\n",
              "              style=\"display:none;\">\n",
              "        \n",
              "  <svg xmlns=\"http://www.w3.org/2000/svg\" height=\"24px\"viewBox=\"0 0 24 24\"\n",
              "       width=\"24px\">\n",
              "    <path d=\"M0 0h24v24H0V0z\" fill=\"none\"/>\n",
              "    <path d=\"M18.56 5.44l.94 2.06.94-2.06 2.06-.94-2.06-.94-.94-2.06-.94 2.06-2.06.94zm-11 1L8.5 8.5l.94-2.06 2.06-.94-2.06-.94L8.5 2.5l-.94 2.06-2.06.94zm10 10l.94 2.06.94-2.06 2.06-.94-2.06-.94-.94-2.06-.94 2.06-2.06.94z\"/><path d=\"M17.41 7.96l-1.37-1.37c-.4-.4-.92-.59-1.43-.59-.52 0-1.04.2-1.43.59L10.3 9.45l-7.72 7.72c-.78.78-.78 2.05 0 2.83L4 21.41c.39.39.9.59 1.41.59.51 0 1.02-.2 1.41-.59l7.78-7.78 2.81-2.81c.8-.78.8-2.07 0-2.86zM5.41 20L4 18.59l7.72-7.72 1.47 1.35L5.41 20z\"/>\n",
              "  </svg>\n",
              "      </button>\n",
              "      \n",
              "  <style>\n",
              "    .colab-df-container {\n",
              "      display:flex;\n",
              "      flex-wrap:wrap;\n",
              "      gap: 12px;\n",
              "    }\n",
              "\n",
              "    .colab-df-convert {\n",
              "      background-color: #E8F0FE;\n",
              "      border: none;\n",
              "      border-radius: 50%;\n",
              "      cursor: pointer;\n",
              "      display: none;\n",
              "      fill: #1967D2;\n",
              "      height: 32px;\n",
              "      padding: 0 0 0 0;\n",
              "      width: 32px;\n",
              "    }\n",
              "\n",
              "    .colab-df-convert:hover {\n",
              "      background-color: #E2EBFA;\n",
              "      box-shadow: 0px 1px 2px rgba(60, 64, 67, 0.3), 0px 1px 3px 1px rgba(60, 64, 67, 0.15);\n",
              "      fill: #174EA6;\n",
              "    }\n",
              "\n",
              "    [theme=dark] .colab-df-convert {\n",
              "      background-color: #3B4455;\n",
              "      fill: #D2E3FC;\n",
              "    }\n",
              "\n",
              "    [theme=dark] .colab-df-convert:hover {\n",
              "      background-color: #434B5C;\n",
              "      box-shadow: 0px 1px 3px 1px rgba(0, 0, 0, 0.15);\n",
              "      filter: drop-shadow(0px 1px 2px rgba(0, 0, 0, 0.3));\n",
              "      fill: #FFFFFF;\n",
              "    }\n",
              "  </style>\n",
              "\n",
              "      <script>\n",
              "        const buttonEl =\n",
              "          document.querySelector('#df-d7482d8c-fc55-45db-b310-64847d9aa50a button.colab-df-convert');\n",
              "        buttonEl.style.display =\n",
              "          google.colab.kernel.accessAllowed ? 'block' : 'none';\n",
              "\n",
              "        async function convertToInteractive(key) {\n",
              "          const element = document.querySelector('#df-d7482d8c-fc55-45db-b310-64847d9aa50a');\n",
              "          const dataTable =\n",
              "            await google.colab.kernel.invokeFunction('convertToInteractive',\n",
              "                                                     [key], {});\n",
              "          if (!dataTable) return;\n",
              "\n",
              "          const docLinkHtml = 'Like what you see? Visit the ' +\n",
              "            '<a target=\"_blank\" href=https://colab.research.google.com/notebooks/data_table.ipynb>data table notebook</a>'\n",
              "            + ' to learn more about interactive tables.';\n",
              "          element.innerHTML = '';\n",
              "          dataTable['output_type'] = 'display_data';\n",
              "          await google.colab.output.renderOutput(dataTable, element);\n",
              "          const docLink = document.createElement('div');\n",
              "          docLink.innerHTML = docLinkHtml;\n",
              "          element.appendChild(docLink);\n",
              "        }\n",
              "      </script>\n",
              "    </div>\n",
              "  </div>\n",
              "  "
            ]
          },
          "metadata": {},
          "execution_count": 25
        }
      ]
    },
    {
      "cell_type": "code",
      "source": [
        "df_NYA_Date_High = df_NYA[[\"Date\",\"High\"]]"
      ],
      "metadata": {
        "id": "2z9WzTL-4G9E"
      },
      "execution_count": 26,
      "outputs": []
    },
    {
      "cell_type": "code",
      "source": [
        "df_NYA_Date_High"
      ],
      "metadata": {
        "colab": {
          "base_uri": "https://localhost:8080/",
          "height": 424
        },
        "id": "yzQB6-rZ4_XK",
        "outputId": "053b1e77-d0ea-4660-9983-7ca57879ed1f"
      },
      "execution_count": 27,
      "outputs": [
        {
          "output_type": "execute_result",
          "data": {
            "text/plain": [
              "            Date          High\n",
              "0     1965-12-31    528.690002\n",
              "1     1966-01-03    527.210022\n",
              "2     1966-01-04    527.840027\n",
              "3     1966-01-05    531.119995\n",
              "4     1966-01-06    532.070007\n",
              "...          ...           ...\n",
              "13943 2021-05-24  16508.519530\n",
              "13944 2021-05-25  16525.810550\n",
              "13945 2021-05-26  16466.339840\n",
              "13946 2021-05-27  16546.359380\n",
              "13947 2021-05-28  16588.689450\n",
              "\n",
              "[13948 rows x 2 columns]"
            ],
            "text/html": [
              "\n",
              "  <div id=\"df-8f5653e2-824f-4397-b877-2f793c80211a\">\n",
              "    <div class=\"colab-df-container\">\n",
              "      <div>\n",
              "<style scoped>\n",
              "    .dataframe tbody tr th:only-of-type {\n",
              "        vertical-align: middle;\n",
              "    }\n",
              "\n",
              "    .dataframe tbody tr th {\n",
              "        vertical-align: top;\n",
              "    }\n",
              "\n",
              "    .dataframe thead th {\n",
              "        text-align: right;\n",
              "    }\n",
              "</style>\n",
              "<table border=\"1\" class=\"dataframe\">\n",
              "  <thead>\n",
              "    <tr style=\"text-align: right;\">\n",
              "      <th></th>\n",
              "      <th>Date</th>\n",
              "      <th>High</th>\n",
              "    </tr>\n",
              "  </thead>\n",
              "  <tbody>\n",
              "    <tr>\n",
              "      <th>0</th>\n",
              "      <td>1965-12-31</td>\n",
              "      <td>528.690002</td>\n",
              "    </tr>\n",
              "    <tr>\n",
              "      <th>1</th>\n",
              "      <td>1966-01-03</td>\n",
              "      <td>527.210022</td>\n",
              "    </tr>\n",
              "    <tr>\n",
              "      <th>2</th>\n",
              "      <td>1966-01-04</td>\n",
              "      <td>527.840027</td>\n",
              "    </tr>\n",
              "    <tr>\n",
              "      <th>3</th>\n",
              "      <td>1966-01-05</td>\n",
              "      <td>531.119995</td>\n",
              "    </tr>\n",
              "    <tr>\n",
              "      <th>4</th>\n",
              "      <td>1966-01-06</td>\n",
              "      <td>532.070007</td>\n",
              "    </tr>\n",
              "    <tr>\n",
              "      <th>...</th>\n",
              "      <td>...</td>\n",
              "      <td>...</td>\n",
              "    </tr>\n",
              "    <tr>\n",
              "      <th>13943</th>\n",
              "      <td>2021-05-24</td>\n",
              "      <td>16508.519530</td>\n",
              "    </tr>\n",
              "    <tr>\n",
              "      <th>13944</th>\n",
              "      <td>2021-05-25</td>\n",
              "      <td>16525.810550</td>\n",
              "    </tr>\n",
              "    <tr>\n",
              "      <th>13945</th>\n",
              "      <td>2021-05-26</td>\n",
              "      <td>16466.339840</td>\n",
              "    </tr>\n",
              "    <tr>\n",
              "      <th>13946</th>\n",
              "      <td>2021-05-27</td>\n",
              "      <td>16546.359380</td>\n",
              "    </tr>\n",
              "    <tr>\n",
              "      <th>13947</th>\n",
              "      <td>2021-05-28</td>\n",
              "      <td>16588.689450</td>\n",
              "    </tr>\n",
              "  </tbody>\n",
              "</table>\n",
              "<p>13948 rows × 2 columns</p>\n",
              "</div>\n",
              "      <button class=\"colab-df-convert\" onclick=\"convertToInteractive('df-8f5653e2-824f-4397-b877-2f793c80211a')\"\n",
              "              title=\"Convert this dataframe to an interactive table.\"\n",
              "              style=\"display:none;\">\n",
              "        \n",
              "  <svg xmlns=\"http://www.w3.org/2000/svg\" height=\"24px\"viewBox=\"0 0 24 24\"\n",
              "       width=\"24px\">\n",
              "    <path d=\"M0 0h24v24H0V0z\" fill=\"none\"/>\n",
              "    <path d=\"M18.56 5.44l.94 2.06.94-2.06 2.06-.94-2.06-.94-.94-2.06-.94 2.06-2.06.94zm-11 1L8.5 8.5l.94-2.06 2.06-.94-2.06-.94L8.5 2.5l-.94 2.06-2.06.94zm10 10l.94 2.06.94-2.06 2.06-.94-2.06-.94-.94-2.06-.94 2.06-2.06.94z\"/><path d=\"M17.41 7.96l-1.37-1.37c-.4-.4-.92-.59-1.43-.59-.52 0-1.04.2-1.43.59L10.3 9.45l-7.72 7.72c-.78.78-.78 2.05 0 2.83L4 21.41c.39.39.9.59 1.41.59.51 0 1.02-.2 1.41-.59l7.78-7.78 2.81-2.81c.8-.78.8-2.07 0-2.86zM5.41 20L4 18.59l7.72-7.72 1.47 1.35L5.41 20z\"/>\n",
              "  </svg>\n",
              "      </button>\n",
              "      \n",
              "  <style>\n",
              "    .colab-df-container {\n",
              "      display:flex;\n",
              "      flex-wrap:wrap;\n",
              "      gap: 12px;\n",
              "    }\n",
              "\n",
              "    .colab-df-convert {\n",
              "      background-color: #E8F0FE;\n",
              "      border: none;\n",
              "      border-radius: 50%;\n",
              "      cursor: pointer;\n",
              "      display: none;\n",
              "      fill: #1967D2;\n",
              "      height: 32px;\n",
              "      padding: 0 0 0 0;\n",
              "      width: 32px;\n",
              "    }\n",
              "\n",
              "    .colab-df-convert:hover {\n",
              "      background-color: #E2EBFA;\n",
              "      box-shadow: 0px 1px 2px rgba(60, 64, 67, 0.3), 0px 1px 3px 1px rgba(60, 64, 67, 0.15);\n",
              "      fill: #174EA6;\n",
              "    }\n",
              "\n",
              "    [theme=dark] .colab-df-convert {\n",
              "      background-color: #3B4455;\n",
              "      fill: #D2E3FC;\n",
              "    }\n",
              "\n",
              "    [theme=dark] .colab-df-convert:hover {\n",
              "      background-color: #434B5C;\n",
              "      box-shadow: 0px 1px 3px 1px rgba(0, 0, 0, 0.15);\n",
              "      filter: drop-shadow(0px 1px 2px rgba(0, 0, 0, 0.3));\n",
              "      fill: #FFFFFF;\n",
              "    }\n",
              "  </style>\n",
              "\n",
              "      <script>\n",
              "        const buttonEl =\n",
              "          document.querySelector('#df-8f5653e2-824f-4397-b877-2f793c80211a button.colab-df-convert');\n",
              "        buttonEl.style.display =\n",
              "          google.colab.kernel.accessAllowed ? 'block' : 'none';\n",
              "\n",
              "        async function convertToInteractive(key) {\n",
              "          const element = document.querySelector('#df-8f5653e2-824f-4397-b877-2f793c80211a');\n",
              "          const dataTable =\n",
              "            await google.colab.kernel.invokeFunction('convertToInteractive',\n",
              "                                                     [key], {});\n",
              "          if (!dataTable) return;\n",
              "\n",
              "          const docLinkHtml = 'Like what you see? Visit the ' +\n",
              "            '<a target=\"_blank\" href=https://colab.research.google.com/notebooks/data_table.ipynb>data table notebook</a>'\n",
              "            + ' to learn more about interactive tables.';\n",
              "          element.innerHTML = '';\n",
              "          dataTable['output_type'] = 'display_data';\n",
              "          await google.colab.output.renderOutput(dataTable, element);\n",
              "          const docLink = document.createElement('div');\n",
              "          docLink.innerHTML = docLinkHtml;\n",
              "          element.appendChild(docLink);\n",
              "        }\n",
              "      </script>\n",
              "    </div>\n",
              "  </div>\n",
              "  "
            ]
          },
          "metadata": {},
          "execution_count": 27
        }
      ]
    },
    {
      "cell_type": "code",
      "source": [
        "df_NYA_Date_High.isnull().sum() #find out the null value in date and close "
      ],
      "metadata": {
        "colab": {
          "base_uri": "https://localhost:8080/"
        },
        "id": "44q4o7JP5A7R",
        "outputId": "39381dcb-e77b-4e6c-f14a-fbf4d3852646"
      },
      "execution_count": 28,
      "outputs": [
        {
          "output_type": "execute_result",
          "data": {
            "text/plain": [
              "Date    0\n",
              "High    1\n",
              "dtype: int64"
            ]
          },
          "metadata": {},
          "execution_count": 28
        }
      ]
    },
    {
      "cell_type": "code",
      "source": [
        "np.where(df_NYA_Date_High[\"High\"].isnull())[0] #find the index of close NaN "
      ],
      "metadata": {
        "colab": {
          "base_uri": "https://localhost:8080/"
        },
        "id": "bGzRta526AM0",
        "outputId": "cbbd2d7c-2796-43a1-843b-5988fce7502f"
      },
      "execution_count": 29,
      "outputs": [
        {
          "output_type": "execute_result",
          "data": {
            "text/plain": [
              "array([289])"
            ]
          },
          "metadata": {},
          "execution_count": 29
        }
      ]
    },
    {
      "cell_type": "code",
      "source": [
        "type(df_NYA_Date_High)"
      ],
      "metadata": {
        "colab": {
          "base_uri": "https://localhost:8080/"
        },
        "id": "eaHXwGx2Zm-j",
        "outputId": "40d6cbe2-b433-49f6-cd06-c0c5bb427ca0"
      },
      "execution_count": 30,
      "outputs": [
        {
          "output_type": "execute_result",
          "data": {
            "text/plain": [
              "pandas.core.frame.DataFrame"
            ]
          },
          "metadata": {},
          "execution_count": 30
        }
      ]
    },
    {
      "cell_type": "code",
      "source": [
        "df_NYA_Date_High.iloc[[289]]"
      ],
      "metadata": {
        "colab": {
          "base_uri": "https://localhost:8080/",
          "height": 81
        },
        "id": "Hby_rGBW6kud",
        "outputId": "935b6d57-2d27-4b46-a357-bff061df4fd5"
      },
      "execution_count": 31,
      "outputs": [
        {
          "output_type": "execute_result",
          "data": {
            "text/plain": [
              "          Date  High\n",
              "289 1967-02-23   NaN"
            ],
            "text/html": [
              "\n",
              "  <div id=\"df-9fb26214-a4aa-48ab-8d70-26347e1c6444\">\n",
              "    <div class=\"colab-df-container\">\n",
              "      <div>\n",
              "<style scoped>\n",
              "    .dataframe tbody tr th:only-of-type {\n",
              "        vertical-align: middle;\n",
              "    }\n",
              "\n",
              "    .dataframe tbody tr th {\n",
              "        vertical-align: top;\n",
              "    }\n",
              "\n",
              "    .dataframe thead th {\n",
              "        text-align: right;\n",
              "    }\n",
              "</style>\n",
              "<table border=\"1\" class=\"dataframe\">\n",
              "  <thead>\n",
              "    <tr style=\"text-align: right;\">\n",
              "      <th></th>\n",
              "      <th>Date</th>\n",
              "      <th>High</th>\n",
              "    </tr>\n",
              "  </thead>\n",
              "  <tbody>\n",
              "    <tr>\n",
              "      <th>289</th>\n",
              "      <td>1967-02-23</td>\n",
              "      <td>NaN</td>\n",
              "    </tr>\n",
              "  </tbody>\n",
              "</table>\n",
              "</div>\n",
              "      <button class=\"colab-df-convert\" onclick=\"convertToInteractive('df-9fb26214-a4aa-48ab-8d70-26347e1c6444')\"\n",
              "              title=\"Convert this dataframe to an interactive table.\"\n",
              "              style=\"display:none;\">\n",
              "        \n",
              "  <svg xmlns=\"http://www.w3.org/2000/svg\" height=\"24px\"viewBox=\"0 0 24 24\"\n",
              "       width=\"24px\">\n",
              "    <path d=\"M0 0h24v24H0V0z\" fill=\"none\"/>\n",
              "    <path d=\"M18.56 5.44l.94 2.06.94-2.06 2.06-.94-2.06-.94-.94-2.06-.94 2.06-2.06.94zm-11 1L8.5 8.5l.94-2.06 2.06-.94-2.06-.94L8.5 2.5l-.94 2.06-2.06.94zm10 10l.94 2.06.94-2.06 2.06-.94-2.06-.94-.94-2.06-.94 2.06-2.06.94z\"/><path d=\"M17.41 7.96l-1.37-1.37c-.4-.4-.92-.59-1.43-.59-.52 0-1.04.2-1.43.59L10.3 9.45l-7.72 7.72c-.78.78-.78 2.05 0 2.83L4 21.41c.39.39.9.59 1.41.59.51 0 1.02-.2 1.41-.59l7.78-7.78 2.81-2.81c.8-.78.8-2.07 0-2.86zM5.41 20L4 18.59l7.72-7.72 1.47 1.35L5.41 20z\"/>\n",
              "  </svg>\n",
              "      </button>\n",
              "      \n",
              "  <style>\n",
              "    .colab-df-container {\n",
              "      display:flex;\n",
              "      flex-wrap:wrap;\n",
              "      gap: 12px;\n",
              "    }\n",
              "\n",
              "    .colab-df-convert {\n",
              "      background-color: #E8F0FE;\n",
              "      border: none;\n",
              "      border-radius: 50%;\n",
              "      cursor: pointer;\n",
              "      display: none;\n",
              "      fill: #1967D2;\n",
              "      height: 32px;\n",
              "      padding: 0 0 0 0;\n",
              "      width: 32px;\n",
              "    }\n",
              "\n",
              "    .colab-df-convert:hover {\n",
              "      background-color: #E2EBFA;\n",
              "      box-shadow: 0px 1px 2px rgba(60, 64, 67, 0.3), 0px 1px 3px 1px rgba(60, 64, 67, 0.15);\n",
              "      fill: #174EA6;\n",
              "    }\n",
              "\n",
              "    [theme=dark] .colab-df-convert {\n",
              "      background-color: #3B4455;\n",
              "      fill: #D2E3FC;\n",
              "    }\n",
              "\n",
              "    [theme=dark] .colab-df-convert:hover {\n",
              "      background-color: #434B5C;\n",
              "      box-shadow: 0px 1px 3px 1px rgba(0, 0, 0, 0.15);\n",
              "      filter: drop-shadow(0px 1px 2px rgba(0, 0, 0, 0.3));\n",
              "      fill: #FFFFFF;\n",
              "    }\n",
              "  </style>\n",
              "\n",
              "      <script>\n",
              "        const buttonEl =\n",
              "          document.querySelector('#df-9fb26214-a4aa-48ab-8d70-26347e1c6444 button.colab-df-convert');\n",
              "        buttonEl.style.display =\n",
              "          google.colab.kernel.accessAllowed ? 'block' : 'none';\n",
              "\n",
              "        async function convertToInteractive(key) {\n",
              "          const element = document.querySelector('#df-9fb26214-a4aa-48ab-8d70-26347e1c6444');\n",
              "          const dataTable =\n",
              "            await google.colab.kernel.invokeFunction('convertToInteractive',\n",
              "                                                     [key], {});\n",
              "          if (!dataTable) return;\n",
              "\n",
              "          const docLinkHtml = 'Like what you see? Visit the ' +\n",
              "            '<a target=\"_blank\" href=https://colab.research.google.com/notebooks/data_table.ipynb>data table notebook</a>'\n",
              "            + ' to learn more about interactive tables.';\n",
              "          element.innerHTML = '';\n",
              "          dataTable['output_type'] = 'display_data';\n",
              "          await google.colab.output.renderOutput(dataTable, element);\n",
              "          const docLink = document.createElement('div');\n",
              "          docLink.innerHTML = docLinkHtml;\n",
              "          element.appendChild(docLink);\n",
              "        }\n",
              "      </script>\n",
              "    </div>\n",
              "  </div>\n",
              "  "
            ]
          },
          "metadata": {},
          "execution_count": 31
        }
      ]
    },
    {
      "cell_type": "code",
      "source": [
        "df_NYA_Date_High_withoutnan = df_NYA_Date_High.dropna()"
      ],
      "metadata": {
        "id": "9WwdGT606nME"
      },
      "execution_count": 32,
      "outputs": []
    },
    {
      "cell_type": "code",
      "source": [
        "df_NYA_Date_High_withoutnan.isnull().sum()"
      ],
      "metadata": {
        "colab": {
          "base_uri": "https://localhost:8080/"
        },
        "id": "7hECwZfQZ4lP",
        "outputId": "a16edddf-e5b0-4964-c954-0e963fe9b758"
      },
      "execution_count": 33,
      "outputs": [
        {
          "output_type": "execute_result",
          "data": {
            "text/plain": [
              "Date    0\n",
              "High    0\n",
              "dtype: int64"
            ]
          },
          "metadata": {},
          "execution_count": 33
        }
      ]
    },
    {
      "cell_type": "code",
      "source": [
        "df_NYA_Date_High_withoutnan"
      ],
      "metadata": {
        "colab": {
          "base_uri": "https://localhost:8080/",
          "height": 424
        },
        "id": "AShr8Dkg8J0z",
        "outputId": "eb4b3da6-480e-4d31-a9d2-f138bc302e38"
      },
      "execution_count": 34,
      "outputs": [
        {
          "output_type": "execute_result",
          "data": {
            "text/plain": [
              "            Date          High\n",
              "0     1965-12-31    528.690002\n",
              "1     1966-01-03    527.210022\n",
              "2     1966-01-04    527.840027\n",
              "3     1966-01-05    531.119995\n",
              "4     1966-01-06    532.070007\n",
              "...          ...           ...\n",
              "13943 2021-05-24  16508.519530\n",
              "13944 2021-05-25  16525.810550\n",
              "13945 2021-05-26  16466.339840\n",
              "13946 2021-05-27  16546.359380\n",
              "13947 2021-05-28  16588.689450\n",
              "\n",
              "[13947 rows x 2 columns]"
            ],
            "text/html": [
              "\n",
              "  <div id=\"df-ca15af4e-e6f2-4eec-a300-0956597701db\">\n",
              "    <div class=\"colab-df-container\">\n",
              "      <div>\n",
              "<style scoped>\n",
              "    .dataframe tbody tr th:only-of-type {\n",
              "        vertical-align: middle;\n",
              "    }\n",
              "\n",
              "    .dataframe tbody tr th {\n",
              "        vertical-align: top;\n",
              "    }\n",
              "\n",
              "    .dataframe thead th {\n",
              "        text-align: right;\n",
              "    }\n",
              "</style>\n",
              "<table border=\"1\" class=\"dataframe\">\n",
              "  <thead>\n",
              "    <tr style=\"text-align: right;\">\n",
              "      <th></th>\n",
              "      <th>Date</th>\n",
              "      <th>High</th>\n",
              "    </tr>\n",
              "  </thead>\n",
              "  <tbody>\n",
              "    <tr>\n",
              "      <th>0</th>\n",
              "      <td>1965-12-31</td>\n",
              "      <td>528.690002</td>\n",
              "    </tr>\n",
              "    <tr>\n",
              "      <th>1</th>\n",
              "      <td>1966-01-03</td>\n",
              "      <td>527.210022</td>\n",
              "    </tr>\n",
              "    <tr>\n",
              "      <th>2</th>\n",
              "      <td>1966-01-04</td>\n",
              "      <td>527.840027</td>\n",
              "    </tr>\n",
              "    <tr>\n",
              "      <th>3</th>\n",
              "      <td>1966-01-05</td>\n",
              "      <td>531.119995</td>\n",
              "    </tr>\n",
              "    <tr>\n",
              "      <th>4</th>\n",
              "      <td>1966-01-06</td>\n",
              "      <td>532.070007</td>\n",
              "    </tr>\n",
              "    <tr>\n",
              "      <th>...</th>\n",
              "      <td>...</td>\n",
              "      <td>...</td>\n",
              "    </tr>\n",
              "    <tr>\n",
              "      <th>13943</th>\n",
              "      <td>2021-05-24</td>\n",
              "      <td>16508.519530</td>\n",
              "    </tr>\n",
              "    <tr>\n",
              "      <th>13944</th>\n",
              "      <td>2021-05-25</td>\n",
              "      <td>16525.810550</td>\n",
              "    </tr>\n",
              "    <tr>\n",
              "      <th>13945</th>\n",
              "      <td>2021-05-26</td>\n",
              "      <td>16466.339840</td>\n",
              "    </tr>\n",
              "    <tr>\n",
              "      <th>13946</th>\n",
              "      <td>2021-05-27</td>\n",
              "      <td>16546.359380</td>\n",
              "    </tr>\n",
              "    <tr>\n",
              "      <th>13947</th>\n",
              "      <td>2021-05-28</td>\n",
              "      <td>16588.689450</td>\n",
              "    </tr>\n",
              "  </tbody>\n",
              "</table>\n",
              "<p>13947 rows × 2 columns</p>\n",
              "</div>\n",
              "      <button class=\"colab-df-convert\" onclick=\"convertToInteractive('df-ca15af4e-e6f2-4eec-a300-0956597701db')\"\n",
              "              title=\"Convert this dataframe to an interactive table.\"\n",
              "              style=\"display:none;\">\n",
              "        \n",
              "  <svg xmlns=\"http://www.w3.org/2000/svg\" height=\"24px\"viewBox=\"0 0 24 24\"\n",
              "       width=\"24px\">\n",
              "    <path d=\"M0 0h24v24H0V0z\" fill=\"none\"/>\n",
              "    <path d=\"M18.56 5.44l.94 2.06.94-2.06 2.06-.94-2.06-.94-.94-2.06-.94 2.06-2.06.94zm-11 1L8.5 8.5l.94-2.06 2.06-.94-2.06-.94L8.5 2.5l-.94 2.06-2.06.94zm10 10l.94 2.06.94-2.06 2.06-.94-2.06-.94-.94-2.06-.94 2.06-2.06.94z\"/><path d=\"M17.41 7.96l-1.37-1.37c-.4-.4-.92-.59-1.43-.59-.52 0-1.04.2-1.43.59L10.3 9.45l-7.72 7.72c-.78.78-.78 2.05 0 2.83L4 21.41c.39.39.9.59 1.41.59.51 0 1.02-.2 1.41-.59l7.78-7.78 2.81-2.81c.8-.78.8-2.07 0-2.86zM5.41 20L4 18.59l7.72-7.72 1.47 1.35L5.41 20z\"/>\n",
              "  </svg>\n",
              "      </button>\n",
              "      \n",
              "  <style>\n",
              "    .colab-df-container {\n",
              "      display:flex;\n",
              "      flex-wrap:wrap;\n",
              "      gap: 12px;\n",
              "    }\n",
              "\n",
              "    .colab-df-convert {\n",
              "      background-color: #E8F0FE;\n",
              "      border: none;\n",
              "      border-radius: 50%;\n",
              "      cursor: pointer;\n",
              "      display: none;\n",
              "      fill: #1967D2;\n",
              "      height: 32px;\n",
              "      padding: 0 0 0 0;\n",
              "      width: 32px;\n",
              "    }\n",
              "\n",
              "    .colab-df-convert:hover {\n",
              "      background-color: #E2EBFA;\n",
              "      box-shadow: 0px 1px 2px rgba(60, 64, 67, 0.3), 0px 1px 3px 1px rgba(60, 64, 67, 0.15);\n",
              "      fill: #174EA6;\n",
              "    }\n",
              "\n",
              "    [theme=dark] .colab-df-convert {\n",
              "      background-color: #3B4455;\n",
              "      fill: #D2E3FC;\n",
              "    }\n",
              "\n",
              "    [theme=dark] .colab-df-convert:hover {\n",
              "      background-color: #434B5C;\n",
              "      box-shadow: 0px 1px 3px 1px rgba(0, 0, 0, 0.15);\n",
              "      filter: drop-shadow(0px 1px 2px rgba(0, 0, 0, 0.3));\n",
              "      fill: #FFFFFF;\n",
              "    }\n",
              "  </style>\n",
              "\n",
              "      <script>\n",
              "        const buttonEl =\n",
              "          document.querySelector('#df-ca15af4e-e6f2-4eec-a300-0956597701db button.colab-df-convert');\n",
              "        buttonEl.style.display =\n",
              "          google.colab.kernel.accessAllowed ? 'block' : 'none';\n",
              "\n",
              "        async function convertToInteractive(key) {\n",
              "          const element = document.querySelector('#df-ca15af4e-e6f2-4eec-a300-0956597701db');\n",
              "          const dataTable =\n",
              "            await google.colab.kernel.invokeFunction('convertToInteractive',\n",
              "                                                     [key], {});\n",
              "          if (!dataTable) return;\n",
              "\n",
              "          const docLinkHtml = 'Like what you see? Visit the ' +\n",
              "            '<a target=\"_blank\" href=https://colab.research.google.com/notebooks/data_table.ipynb>data table notebook</a>'\n",
              "            + ' to learn more about interactive tables.';\n",
              "          element.innerHTML = '';\n",
              "          dataTable['output_type'] = 'display_data';\n",
              "          await google.colab.output.renderOutput(dataTable, element);\n",
              "          const docLink = document.createElement('div');\n",
              "          docLink.innerHTML = docLinkHtml;\n",
              "          element.appendChild(docLink);\n",
              "        }\n",
              "      </script>\n",
              "    </div>\n",
              "  </div>\n",
              "  "
            ]
          },
          "metadata": {},
          "execution_count": 34
        }
      ]
    },
    {
      "cell_type": "code",
      "source": [
        "data_train = df_NYA_Date_High_withoutnan[df_NYA_Date_High_withoutnan.Date < \"2010-01-01\" ] #  data < df_NYA_data_close before 2010-01-01 is used for training\n",
        "data_test  = df_NYA_Date_High_withoutnan[df_NYA_Date_High_withoutnan.Date >= \"2010-01-01\"] #  data >= 2010-01-01 of df_NYA_data_close used for test"
      ],
      "metadata": {
        "id": "FrHdFI1R7OkZ"
      },
      "execution_count": 35,
      "outputs": []
    },
    {
      "cell_type": "code",
      "source": [
        "data_train.Date[:,np.newaxis]"
      ],
      "metadata": {
        "colab": {
          "base_uri": "https://localhost:8080/"
        },
        "id": "YSBw4XsvH7Cm",
        "outputId": "e07d20e1-842d-4848-c579-74b281b6d14c"
      },
      "execution_count": 38,
      "outputs": [
        {
          "output_type": "stream",
          "name": "stderr",
          "text": [
            "<ipython-input-38-b7b7fc843d80>:1: FutureWarning: Support for multi-dimensional indexing (e.g. `obj[:, None]`) is deprecated and will be removed in a future version.  Convert to a numpy array before indexing instead.\n",
            "  data_train.Date[:,np.newaxis]\n"
          ]
        },
        {
          "output_type": "execute_result",
          "data": {
            "text/plain": [
              "array([['1965-12-31T00:00:00.000000000'],\n",
              "       ['1966-01-03T00:00:00.000000000'],\n",
              "       ['1966-01-04T00:00:00.000000000'],\n",
              "       ...,\n",
              "       ['2009-12-29T00:00:00.000000000'],\n",
              "       ['2009-12-30T00:00:00.000000000'],\n",
              "       ['2009-12-31T00:00:00.000000000']], dtype='datetime64[ns]')"
            ]
          },
          "metadata": {},
          "execution_count": 38
        }
      ]
    },
    {
      "cell_type": "code",
      "source": [
        "X_train = data_train.Date[:,np.newaxis]\n",
        "y_train = data_train.High"
      ],
      "metadata": {
        "colab": {
          "base_uri": "https://localhost:8080/"
        },
        "id": "Q9DrZ2nGOWzd",
        "outputId": "21d69550-508b-4e5a-9125-77e36859cd19"
      },
      "execution_count": 39,
      "outputs": [
        {
          "output_type": "stream",
          "name": "stderr",
          "text": [
            "<ipython-input-39-66e3813889c2>:1: FutureWarning: Support for multi-dimensional indexing (e.g. `obj[:, None]`) is deprecated and will be removed in a future version.  Convert to a numpy array before indexing instead.\n",
            "  X_train = data_train.Date[:,np.newaxis]\n"
          ]
        }
      ]
    },
    {
      "cell_type": "code",
      "source": [
        "X_train_fix=[]\n",
        "for i in range(len(X_train)):\n",
        "  X_train_fix.append(X_train[i].astype(datetime))"
      ],
      "metadata": {
        "id": "zSzPq3ByrMoE"
      },
      "execution_count": 40,
      "outputs": []
    },
    {
      "cell_type": "code",
      "source": [
        "linear_reg = LinearRegression().fit(X_train_fix, y_train) "
      ],
      "metadata": {
        "colab": {
          "base_uri": "https://localhost:8080/"
        },
        "id": "DGCL5FQqrI2v",
        "outputId": "e663ae9a-ccbd-4630-b273-f7bb577b928a"
      },
      "execution_count": 41,
      "outputs": [
        {
          "output_type": "stream",
          "name": "stderr",
          "text": [
            "/usr/local/lib/python3.8/dist-packages/sklearn/utils/validation.py:964: FutureWarning: Arrays of bytes/strings is being converted to decimal numbers if dtype='numeric'. This behavior is deprecated in 0.24 and will be removed in 1.1 (renaming of 0.26). Please convert your data to numeric values explicitly instead.\n",
            "  X = check_array(\n"
          ]
        }
      ]
    },
    {
      "cell_type": "code",
      "source": [
        "X_test = data_test.Date[:,np.newaxis]\n",
        "y_test = data_test.High"
      ],
      "metadata": {
        "colab": {
          "base_uri": "https://localhost:8080/"
        },
        "id": "Bkbbf_cYHwMX",
        "outputId": "1da1afa1-cd1e-40f5-a2d6-8f35681a5df0"
      },
      "execution_count": 42,
      "outputs": [
        {
          "output_type": "stream",
          "name": "stderr",
          "text": [
            "<ipython-input-42-11216da55ee3>:1: FutureWarning: Support for multi-dimensional indexing (e.g. `obj[:, None]`) is deprecated and will be removed in a future version.  Convert to a numpy array before indexing instead.\n",
            "  X_test = data_test.Date[:,np.newaxis]\n"
          ]
        }
      ]
    },
    {
      "cell_type": "code",
      "source": [
        "X_test_fix = []\n",
        "for i in range(len(X_test)):\n",
        "  X_test_fix.append(X_test[i].astype(datetime))"
      ],
      "metadata": {
        "id": "uXIuCphc95KK"
      },
      "execution_count": 43,
      "outputs": []
    },
    {
      "cell_type": "code",
      "source": [
        "y_pred = linear_reg.predict(X_test_fix)"
      ],
      "metadata": {
        "colab": {
          "base_uri": "https://localhost:8080/"
        },
        "id": "ikzVQoHd0wbY",
        "outputId": "a568107e-da81-4877-8fde-7a88c746e454"
      },
      "execution_count": 44,
      "outputs": [
        {
          "output_type": "stream",
          "name": "stderr",
          "text": [
            "/usr/local/lib/python3.8/dist-packages/sklearn/base.py:566: FutureWarning: Arrays of bytes/strings is being converted to decimal numbers if dtype='numeric'. This behavior is deprecated in 0.24 and will be removed in 1.1 (renaming of 0.26). Please convert your data to numeric values explicitly instead.\n",
            "  X = check_array(X, **check_params)\n"
          ]
        }
      ]
    },
    {
      "cell_type": "code",
      "source": [
        "from sklearn.metrics import r2_score\n",
        "from sklearn.metrics import mean_squared_error"
      ],
      "metadata": {
        "id": "hXLIA_9KPr0E"
      },
      "execution_count": 45,
      "outputs": []
    },
    {
      "cell_type": "code",
      "source": [
        "score = r2_score(y_test,y_pred)\n",
        "print(mean_squared_error(y_test, y_pred))\n",
        "print(score)\n"
      ],
      "metadata": {
        "colab": {
          "base_uri": "https://localhost:8080/"
        },
        "id": "2BOKeoPiA99C",
        "outputId": "e1d64c88-e18c-477f-fdeb-3a871e9911b9"
      },
      "execution_count": 46,
      "outputs": [
        {
          "output_type": "stream",
          "name": "stdout",
          "text": [
            "8346503.097625212\n",
            "-0.7099033452067525\n"
          ]
        }
      ]
    },
    {
      "cell_type": "code",
      "source": [
        "# From the result of r2 score, which is a negative value, we can see that model does not a good job.\n",
        "# the mean_squared_error is very large, which means the model does a bad predication."
      ],
      "metadata": {
        "id": "KUH-3dsHLcPa"
      },
      "execution_count": 47,
      "outputs": []
    },
    {
      "cell_type": "code",
      "source": [
        "import numpy as np\n",
        "import pandas as pd\n",
        "import matplotlib.pyplot as plt\n",
        "import seaborn as sns"
      ],
      "metadata": {
        "id": "ONMIoFM3TTpK"
      },
      "execution_count": 48,
      "outputs": []
    },
    {
      "cell_type": "code",
      "source": [
        "from sklearn.linear_model import Lasso"
      ],
      "metadata": {
        "id": "dhdHE_JKwYzj"
      },
      "execution_count": 49,
      "outputs": []
    },
    {
      "cell_type": "code",
      "source": [
        "model_lasso = Lasso(alpha=1)"
      ],
      "metadata": {
        "id": "Yja8fGqgzUNu"
      },
      "execution_count": 50,
      "outputs": []
    },
    {
      "cell_type": "code",
      "source": [
        "model_lasso.fit(X_train_fix, y_train)"
      ],
      "metadata": {
        "colab": {
          "base_uri": "https://localhost:8080/"
        },
        "id": "Qrb1aGyczoSy",
        "outputId": "932eee53-3765-4f2b-a219-ea40039bd5f1"
      },
      "execution_count": 51,
      "outputs": [
        {
          "output_type": "stream",
          "name": "stderr",
          "text": [
            "/usr/local/lib/python3.8/dist-packages/sklearn/linear_model/_coordinate_descent.py:647: ConvergenceWarning: Objective did not converge. You might want to increase the number of iterations, check the scale of the features or consider increasing regularisation. Duality gap: 8.095e+09, tolerance: 8.297e+06\n",
            "  model = cd_fast.enet_coordinate_descent(\n"
          ]
        },
        {
          "output_type": "execute_result",
          "data": {
            "text/plain": [
              "Lasso(alpha=1)"
            ]
          },
          "metadata": {},
          "execution_count": 51
        }
      ]
    },
    {
      "cell_type": "code",
      "source": [
        "y_predict_lasso = model_lasso.predict(X_test_fix)"
      ],
      "metadata": {
        "colab": {
          "base_uri": "https://localhost:8080/"
        },
        "id": "UU8gotXpEWhJ",
        "outputId": "4ef09b13-8de0-4415-8ea2-2ece20d97e0a"
      },
      "execution_count": 52,
      "outputs": [
        {
          "output_type": "stream",
          "name": "stderr",
          "text": [
            "/usr/local/lib/python3.8/dist-packages/sklearn/base.py:566: FutureWarning: Arrays of bytes/strings is being converted to decimal numbers if dtype='numeric'. This behavior is deprecated in 0.24 and will be removed in 1.1 (renaming of 0.26). Please convert your data to numeric values explicitly instead.\n",
            "  X = check_array(X, **check_params)\n"
          ]
        }
      ]
    },
    {
      "cell_type": "code",
      "source": [
        "y_test"
      ],
      "metadata": {
        "colab": {
          "base_uri": "https://localhost:8080/"
        },
        "id": "elrPcdUovFBh",
        "outputId": "9f445340-4d7b-4160-b66f-ccefb99c3693"
      },
      "execution_count": 53,
      "outputs": [
        {
          "output_type": "execute_result",
          "data": {
            "text/plain": [
              "11077     7331.120117\n",
              "11078     7359.459961\n",
              "11079     7389.279785\n",
              "11080     7398.209961\n",
              "11081     7426.410156\n",
              "             ...     \n",
              "13943    16508.519530\n",
              "13944    16525.810550\n",
              "13945    16466.339840\n",
              "13946    16546.359380\n",
              "13947    16588.689450\n",
              "Name: High, Length: 2871, dtype: float64"
            ]
          },
          "metadata": {},
          "execution_count": 53
        }
      ]
    },
    {
      "cell_type": "code",
      "source": [
        "y_predict_lasso"
      ],
      "metadata": {
        "colab": {
          "base_uri": "https://localhost:8080/"
        },
        "id": "rz2OgFAyvHmX",
        "outputId": "7b1f2b9c-83b9-4044-e1ea-f6781119c388"
      },
      "execution_count": 54,
      "outputs": [
        {
          "output_type": "execute_result",
          "data": {
            "text/plain": [
              "array([7130.02802592, 7130.5584783 , 7131.08893068, ..., 9336.70992454,\n",
              "       9337.24037692, 9337.7708293 ])"
            ]
          },
          "metadata": {},
          "execution_count": 54
        }
      ]
    },
    {
      "cell_type": "code",
      "source": [
        "print(np.sqrt(mean_squared_error(y_test,y_predict_lasso)))\n",
        "print(r2_score(y_test, y_predict_lasso))\n",
        "# mean_squared_error is 2889.0315155126327\n",
        "# r2_score is -0.7099033452067538\n",
        "# mean_squared_error is very large, and r2_score is a negative value, both of them mean the model does a pretty bad predication."
      ],
      "metadata": {
        "colab": {
          "base_uri": "https://localhost:8080/"
        },
        "id": "0dOiLIT8Sqef",
        "outputId": "b2cd667b-edfa-44a8-8787-6368f6c85d5e"
      },
      "execution_count": 55,
      "outputs": [
        {
          "output_type": "stream",
          "name": "stdout",
          "text": [
            "2889.0315155126327\n",
            "-0.7099033452067538\n"
          ]
        }
      ]
    },
    {
      "cell_type": "code",
      "source": [
        "#The linear regression give result:\n",
        "8274805.87149229 #mean_squred_error\n",
        "-0.6974082783962985 #r2_score\n",
        "#The Lasso regression give result:\n",
        "2889.0315155126327 #mean_squred_error\n",
        "-0.7099033452067538 #r2_score"
      ],
      "metadata": {
        "colab": {
          "base_uri": "https://localhost:8080/"
        },
        "id": "euQksBfzIK0c",
        "outputId": "bb85b6d2-fde3-4144-8d8a-a6e637e79d63"
      },
      "execution_count": 56,
      "outputs": [
        {
          "output_type": "execute_result",
          "data": {
            "text/plain": [
              "-0.7099033452067538"
            ]
          },
          "metadata": {},
          "execution_count": 56
        }
      ]
    },
    {
      "cell_type": "code",
      "source": [
        "# From the result, we can find out that the linear regression and Lasson regression give the same r2_score, both are negative, means the model did a bad job.\n",
        "# For mean_squared_error, Lasso regression give a lower score, which means that lasso regression did a better job.  "
      ],
      "metadata": {
        "id": "5bHqU5rkMnWC"
      },
      "execution_count": 57,
      "outputs": []
    },
    {
      "cell_type": "code",
      "source": [
        "df_NYA"
      ],
      "metadata": {
        "colab": {
          "base_uri": "https://localhost:8080/",
          "height": 424
        },
        "id": "_JqwBOkMpJdy",
        "outputId": "922042b3-f9ba-48cd-d65d-8493bfae2c23"
      },
      "execution_count": 58,
      "outputs": [
        {
          "output_type": "execute_result",
          "data": {
            "text/plain": [
              "      Index       Date          Open          High           Low  \\\n",
              "0       NYA 1965-12-31    528.690002    528.690002    528.690002   \n",
              "1       NYA 1966-01-03    527.210022    527.210022    527.210022   \n",
              "2       NYA 1966-01-04    527.840027    527.840027    527.840027   \n",
              "3       NYA 1966-01-05    531.119995    531.119995    531.119995   \n",
              "4       NYA 1966-01-06    532.070007    532.070007    532.070007   \n",
              "...     ...        ...           ...           ...           ...   \n",
              "13943   NYA 2021-05-24  16375.000000  16508.519530  16375.000000   \n",
              "13944   NYA 2021-05-25  16464.689450  16525.810550  16375.150390   \n",
              "13945   NYA 2021-05-26  16390.189450  16466.339840  16388.320310   \n",
              "13946   NYA 2021-05-27  16451.960940  16546.359380  16451.960940   \n",
              "13947   NYA 2021-05-28  16531.949220  16588.689450  16531.949220   \n",
              "\n",
              "              Close     Adj Close        Volume  \n",
              "0        528.690002    528.690002  0.000000e+00  \n",
              "1        527.210022    527.210022  0.000000e+00  \n",
              "2        527.840027    527.840027  0.000000e+00  \n",
              "3        531.119995    531.119995  0.000000e+00  \n",
              "4        532.070007    532.070007  0.000000e+00  \n",
              "...             ...           ...           ...  \n",
              "13943  16464.689450  16464.689450  2.947400e+09  \n",
              "13944  16390.189450  16390.189450  3.420870e+09  \n",
              "13945  16451.960940  16451.960940  3.674490e+09  \n",
              "13946  16531.949220  16531.949220  5.201110e+09  \n",
              "13947  16555.660160  16555.660160  4.199270e+09  \n",
              "\n",
              "[13948 rows x 8 columns]"
            ],
            "text/html": [
              "\n",
              "  <div id=\"df-aaddda9c-24fd-4c92-af7c-f10b7841e5d7\">\n",
              "    <div class=\"colab-df-container\">\n",
              "      <div>\n",
              "<style scoped>\n",
              "    .dataframe tbody tr th:only-of-type {\n",
              "        vertical-align: middle;\n",
              "    }\n",
              "\n",
              "    .dataframe tbody tr th {\n",
              "        vertical-align: top;\n",
              "    }\n",
              "\n",
              "    .dataframe thead th {\n",
              "        text-align: right;\n",
              "    }\n",
              "</style>\n",
              "<table border=\"1\" class=\"dataframe\">\n",
              "  <thead>\n",
              "    <tr style=\"text-align: right;\">\n",
              "      <th></th>\n",
              "      <th>Index</th>\n",
              "      <th>Date</th>\n",
              "      <th>Open</th>\n",
              "      <th>High</th>\n",
              "      <th>Low</th>\n",
              "      <th>Close</th>\n",
              "      <th>Adj Close</th>\n",
              "      <th>Volume</th>\n",
              "    </tr>\n",
              "  </thead>\n",
              "  <tbody>\n",
              "    <tr>\n",
              "      <th>0</th>\n",
              "      <td>NYA</td>\n",
              "      <td>1965-12-31</td>\n",
              "      <td>528.690002</td>\n",
              "      <td>528.690002</td>\n",
              "      <td>528.690002</td>\n",
              "      <td>528.690002</td>\n",
              "      <td>528.690002</td>\n",
              "      <td>0.000000e+00</td>\n",
              "    </tr>\n",
              "    <tr>\n",
              "      <th>1</th>\n",
              "      <td>NYA</td>\n",
              "      <td>1966-01-03</td>\n",
              "      <td>527.210022</td>\n",
              "      <td>527.210022</td>\n",
              "      <td>527.210022</td>\n",
              "      <td>527.210022</td>\n",
              "      <td>527.210022</td>\n",
              "      <td>0.000000e+00</td>\n",
              "    </tr>\n",
              "    <tr>\n",
              "      <th>2</th>\n",
              "      <td>NYA</td>\n",
              "      <td>1966-01-04</td>\n",
              "      <td>527.840027</td>\n",
              "      <td>527.840027</td>\n",
              "      <td>527.840027</td>\n",
              "      <td>527.840027</td>\n",
              "      <td>527.840027</td>\n",
              "      <td>0.000000e+00</td>\n",
              "    </tr>\n",
              "    <tr>\n",
              "      <th>3</th>\n",
              "      <td>NYA</td>\n",
              "      <td>1966-01-05</td>\n",
              "      <td>531.119995</td>\n",
              "      <td>531.119995</td>\n",
              "      <td>531.119995</td>\n",
              "      <td>531.119995</td>\n",
              "      <td>531.119995</td>\n",
              "      <td>0.000000e+00</td>\n",
              "    </tr>\n",
              "    <tr>\n",
              "      <th>4</th>\n",
              "      <td>NYA</td>\n",
              "      <td>1966-01-06</td>\n",
              "      <td>532.070007</td>\n",
              "      <td>532.070007</td>\n",
              "      <td>532.070007</td>\n",
              "      <td>532.070007</td>\n",
              "      <td>532.070007</td>\n",
              "      <td>0.000000e+00</td>\n",
              "    </tr>\n",
              "    <tr>\n",
              "      <th>...</th>\n",
              "      <td>...</td>\n",
              "      <td>...</td>\n",
              "      <td>...</td>\n",
              "      <td>...</td>\n",
              "      <td>...</td>\n",
              "      <td>...</td>\n",
              "      <td>...</td>\n",
              "      <td>...</td>\n",
              "    </tr>\n",
              "    <tr>\n",
              "      <th>13943</th>\n",
              "      <td>NYA</td>\n",
              "      <td>2021-05-24</td>\n",
              "      <td>16375.000000</td>\n",
              "      <td>16508.519530</td>\n",
              "      <td>16375.000000</td>\n",
              "      <td>16464.689450</td>\n",
              "      <td>16464.689450</td>\n",
              "      <td>2.947400e+09</td>\n",
              "    </tr>\n",
              "    <tr>\n",
              "      <th>13944</th>\n",
              "      <td>NYA</td>\n",
              "      <td>2021-05-25</td>\n",
              "      <td>16464.689450</td>\n",
              "      <td>16525.810550</td>\n",
              "      <td>16375.150390</td>\n",
              "      <td>16390.189450</td>\n",
              "      <td>16390.189450</td>\n",
              "      <td>3.420870e+09</td>\n",
              "    </tr>\n",
              "    <tr>\n",
              "      <th>13945</th>\n",
              "      <td>NYA</td>\n",
              "      <td>2021-05-26</td>\n",
              "      <td>16390.189450</td>\n",
              "      <td>16466.339840</td>\n",
              "      <td>16388.320310</td>\n",
              "      <td>16451.960940</td>\n",
              "      <td>16451.960940</td>\n",
              "      <td>3.674490e+09</td>\n",
              "    </tr>\n",
              "    <tr>\n",
              "      <th>13946</th>\n",
              "      <td>NYA</td>\n",
              "      <td>2021-05-27</td>\n",
              "      <td>16451.960940</td>\n",
              "      <td>16546.359380</td>\n",
              "      <td>16451.960940</td>\n",
              "      <td>16531.949220</td>\n",
              "      <td>16531.949220</td>\n",
              "      <td>5.201110e+09</td>\n",
              "    </tr>\n",
              "    <tr>\n",
              "      <th>13947</th>\n",
              "      <td>NYA</td>\n",
              "      <td>2021-05-28</td>\n",
              "      <td>16531.949220</td>\n",
              "      <td>16588.689450</td>\n",
              "      <td>16531.949220</td>\n",
              "      <td>16555.660160</td>\n",
              "      <td>16555.660160</td>\n",
              "      <td>4.199270e+09</td>\n",
              "    </tr>\n",
              "  </tbody>\n",
              "</table>\n",
              "<p>13948 rows × 8 columns</p>\n",
              "</div>\n",
              "      <button class=\"colab-df-convert\" onclick=\"convertToInteractive('df-aaddda9c-24fd-4c92-af7c-f10b7841e5d7')\"\n",
              "              title=\"Convert this dataframe to an interactive table.\"\n",
              "              style=\"display:none;\">\n",
              "        \n",
              "  <svg xmlns=\"http://www.w3.org/2000/svg\" height=\"24px\"viewBox=\"0 0 24 24\"\n",
              "       width=\"24px\">\n",
              "    <path d=\"M0 0h24v24H0V0z\" fill=\"none\"/>\n",
              "    <path d=\"M18.56 5.44l.94 2.06.94-2.06 2.06-.94-2.06-.94-.94-2.06-.94 2.06-2.06.94zm-11 1L8.5 8.5l.94-2.06 2.06-.94-2.06-.94L8.5 2.5l-.94 2.06-2.06.94zm10 10l.94 2.06.94-2.06 2.06-.94-2.06-.94-.94-2.06-.94 2.06-2.06.94z\"/><path d=\"M17.41 7.96l-1.37-1.37c-.4-.4-.92-.59-1.43-.59-.52 0-1.04.2-1.43.59L10.3 9.45l-7.72 7.72c-.78.78-.78 2.05 0 2.83L4 21.41c.39.39.9.59 1.41.59.51 0 1.02-.2 1.41-.59l7.78-7.78 2.81-2.81c.8-.78.8-2.07 0-2.86zM5.41 20L4 18.59l7.72-7.72 1.47 1.35L5.41 20z\"/>\n",
              "  </svg>\n",
              "      </button>\n",
              "      \n",
              "  <style>\n",
              "    .colab-df-container {\n",
              "      display:flex;\n",
              "      flex-wrap:wrap;\n",
              "      gap: 12px;\n",
              "    }\n",
              "\n",
              "    .colab-df-convert {\n",
              "      background-color: #E8F0FE;\n",
              "      border: none;\n",
              "      border-radius: 50%;\n",
              "      cursor: pointer;\n",
              "      display: none;\n",
              "      fill: #1967D2;\n",
              "      height: 32px;\n",
              "      padding: 0 0 0 0;\n",
              "      width: 32px;\n",
              "    }\n",
              "\n",
              "    .colab-df-convert:hover {\n",
              "      background-color: #E2EBFA;\n",
              "      box-shadow: 0px 1px 2px rgba(60, 64, 67, 0.3), 0px 1px 3px 1px rgba(60, 64, 67, 0.15);\n",
              "      fill: #174EA6;\n",
              "    }\n",
              "\n",
              "    [theme=dark] .colab-df-convert {\n",
              "      background-color: #3B4455;\n",
              "      fill: #D2E3FC;\n",
              "    }\n",
              "\n",
              "    [theme=dark] .colab-df-convert:hover {\n",
              "      background-color: #434B5C;\n",
              "      box-shadow: 0px 1px 3px 1px rgba(0, 0, 0, 0.15);\n",
              "      filter: drop-shadow(0px 1px 2px rgba(0, 0, 0, 0.3));\n",
              "      fill: #FFFFFF;\n",
              "    }\n",
              "  </style>\n",
              "\n",
              "      <script>\n",
              "        const buttonEl =\n",
              "          document.querySelector('#df-aaddda9c-24fd-4c92-af7c-f10b7841e5d7 button.colab-df-convert');\n",
              "        buttonEl.style.display =\n",
              "          google.colab.kernel.accessAllowed ? 'block' : 'none';\n",
              "\n",
              "        async function convertToInteractive(key) {\n",
              "          const element = document.querySelector('#df-aaddda9c-24fd-4c92-af7c-f10b7841e5d7');\n",
              "          const dataTable =\n",
              "            await google.colab.kernel.invokeFunction('convertToInteractive',\n",
              "                                                     [key], {});\n",
              "          if (!dataTable) return;\n",
              "\n",
              "          const docLinkHtml = 'Like what you see? Visit the ' +\n",
              "            '<a target=\"_blank\" href=https://colab.research.google.com/notebooks/data_table.ipynb>data table notebook</a>'\n",
              "            + ' to learn more about interactive tables.';\n",
              "          element.innerHTML = '';\n",
              "          dataTable['output_type'] = 'display_data';\n",
              "          await google.colab.output.renderOutput(dataTable, element);\n",
              "          const docLink = document.createElement('div');\n",
              "          docLink.innerHTML = docLinkHtml;\n",
              "          element.appendChild(docLink);\n",
              "        }\n",
              "      </script>\n",
              "    </div>\n",
              "  </div>\n",
              "  "
            ]
          },
          "metadata": {},
          "execution_count": 58
        }
      ]
    },
    {
      "cell_type": "code",
      "source": [
        "df_NYA.isnull().sum()"
      ],
      "metadata": {
        "colab": {
          "base_uri": "https://localhost:8080/"
        },
        "id": "ogRm1v5A1Z-v",
        "outputId": "f50b3d96-728d-431b-ed4c-61f0b616aeb8"
      },
      "execution_count": 59,
      "outputs": [
        {
          "output_type": "execute_result",
          "data": {
            "text/plain": [
              "Index        0\n",
              "Date         0\n",
              "Open         1\n",
              "High         1\n",
              "Low          1\n",
              "Close        1\n",
              "Adj Close    1\n",
              "Volume       1\n",
              "dtype: int64"
            ]
          },
          "metadata": {},
          "execution_count": 59
        }
      ]
    },
    {
      "cell_type": "code",
      "source": [
        "df_NYA_WithoutNull=df_NYA.dropna()"
      ],
      "metadata": {
        "id": "VtxqlfjfBMEV"
      },
      "execution_count": 60,
      "outputs": []
    },
    {
      "cell_type": "code",
      "source": [
        "df_NYA_WithoutNull.isnull().sum()"
      ],
      "metadata": {
        "colab": {
          "base_uri": "https://localhost:8080/"
        },
        "id": "5OJt3GsZBoqu",
        "outputId": "e257ca46-9ab5-4a27-ea02-0c10d59e042b"
      },
      "execution_count": 61,
      "outputs": [
        {
          "output_type": "execute_result",
          "data": {
            "text/plain": [
              "Index        0\n",
              "Date         0\n",
              "Open         0\n",
              "High         0\n",
              "Low          0\n",
              "Close        0\n",
              "Adj Close    0\n",
              "Volume       0\n",
              "dtype: int64"
            ]
          },
          "metadata": {},
          "execution_count": 61
        }
      ]
    },
    {
      "cell_type": "code",
      "source": [
        "df_high = df_NYA_WithoutNull.High"
      ],
      "metadata": {
        "id": "OuufYGFvCRRs"
      },
      "execution_count": 62,
      "outputs": []
    },
    {
      "cell_type": "code",
      "source": [
        "df_NYA_WithoutNull"
      ],
      "metadata": {
        "colab": {
          "base_uri": "https://localhost:8080/",
          "height": 424
        },
        "id": "-AUr3mc6Pj3D",
        "outputId": "40375e07-5a67-4472-e501-7cb853fae508"
      },
      "execution_count": 63,
      "outputs": [
        {
          "output_type": "execute_result",
          "data": {
            "text/plain": [
              "      Index       Date          Open          High           Low  \\\n",
              "0       NYA 1965-12-31    528.690002    528.690002    528.690002   \n",
              "1       NYA 1966-01-03    527.210022    527.210022    527.210022   \n",
              "2       NYA 1966-01-04    527.840027    527.840027    527.840027   \n",
              "3       NYA 1966-01-05    531.119995    531.119995    531.119995   \n",
              "4       NYA 1966-01-06    532.070007    532.070007    532.070007   \n",
              "...     ...        ...           ...           ...           ...   \n",
              "13943   NYA 2021-05-24  16375.000000  16508.519530  16375.000000   \n",
              "13944   NYA 2021-05-25  16464.689450  16525.810550  16375.150390   \n",
              "13945   NYA 2021-05-26  16390.189450  16466.339840  16388.320310   \n",
              "13946   NYA 2021-05-27  16451.960940  16546.359380  16451.960940   \n",
              "13947   NYA 2021-05-28  16531.949220  16588.689450  16531.949220   \n",
              "\n",
              "              Close     Adj Close        Volume  \n",
              "0        528.690002    528.690002  0.000000e+00  \n",
              "1        527.210022    527.210022  0.000000e+00  \n",
              "2        527.840027    527.840027  0.000000e+00  \n",
              "3        531.119995    531.119995  0.000000e+00  \n",
              "4        532.070007    532.070007  0.000000e+00  \n",
              "...             ...           ...           ...  \n",
              "13943  16464.689450  16464.689450  2.947400e+09  \n",
              "13944  16390.189450  16390.189450  3.420870e+09  \n",
              "13945  16451.960940  16451.960940  3.674490e+09  \n",
              "13946  16531.949220  16531.949220  5.201110e+09  \n",
              "13947  16555.660160  16555.660160  4.199270e+09  \n",
              "\n",
              "[13947 rows x 8 columns]"
            ],
            "text/html": [
              "\n",
              "  <div id=\"df-1f4aba73-6add-4d0a-9785-7a184fb9a568\">\n",
              "    <div class=\"colab-df-container\">\n",
              "      <div>\n",
              "<style scoped>\n",
              "    .dataframe tbody tr th:only-of-type {\n",
              "        vertical-align: middle;\n",
              "    }\n",
              "\n",
              "    .dataframe tbody tr th {\n",
              "        vertical-align: top;\n",
              "    }\n",
              "\n",
              "    .dataframe thead th {\n",
              "        text-align: right;\n",
              "    }\n",
              "</style>\n",
              "<table border=\"1\" class=\"dataframe\">\n",
              "  <thead>\n",
              "    <tr style=\"text-align: right;\">\n",
              "      <th></th>\n",
              "      <th>Index</th>\n",
              "      <th>Date</th>\n",
              "      <th>Open</th>\n",
              "      <th>High</th>\n",
              "      <th>Low</th>\n",
              "      <th>Close</th>\n",
              "      <th>Adj Close</th>\n",
              "      <th>Volume</th>\n",
              "    </tr>\n",
              "  </thead>\n",
              "  <tbody>\n",
              "    <tr>\n",
              "      <th>0</th>\n",
              "      <td>NYA</td>\n",
              "      <td>1965-12-31</td>\n",
              "      <td>528.690002</td>\n",
              "      <td>528.690002</td>\n",
              "      <td>528.690002</td>\n",
              "      <td>528.690002</td>\n",
              "      <td>528.690002</td>\n",
              "      <td>0.000000e+00</td>\n",
              "    </tr>\n",
              "    <tr>\n",
              "      <th>1</th>\n",
              "      <td>NYA</td>\n",
              "      <td>1966-01-03</td>\n",
              "      <td>527.210022</td>\n",
              "      <td>527.210022</td>\n",
              "      <td>527.210022</td>\n",
              "      <td>527.210022</td>\n",
              "      <td>527.210022</td>\n",
              "      <td>0.000000e+00</td>\n",
              "    </tr>\n",
              "    <tr>\n",
              "      <th>2</th>\n",
              "      <td>NYA</td>\n",
              "      <td>1966-01-04</td>\n",
              "      <td>527.840027</td>\n",
              "      <td>527.840027</td>\n",
              "      <td>527.840027</td>\n",
              "      <td>527.840027</td>\n",
              "      <td>527.840027</td>\n",
              "      <td>0.000000e+00</td>\n",
              "    </tr>\n",
              "    <tr>\n",
              "      <th>3</th>\n",
              "      <td>NYA</td>\n",
              "      <td>1966-01-05</td>\n",
              "      <td>531.119995</td>\n",
              "      <td>531.119995</td>\n",
              "      <td>531.119995</td>\n",
              "      <td>531.119995</td>\n",
              "      <td>531.119995</td>\n",
              "      <td>0.000000e+00</td>\n",
              "    </tr>\n",
              "    <tr>\n",
              "      <th>4</th>\n",
              "      <td>NYA</td>\n",
              "      <td>1966-01-06</td>\n",
              "      <td>532.070007</td>\n",
              "      <td>532.070007</td>\n",
              "      <td>532.070007</td>\n",
              "      <td>532.070007</td>\n",
              "      <td>532.070007</td>\n",
              "      <td>0.000000e+00</td>\n",
              "    </tr>\n",
              "    <tr>\n",
              "      <th>...</th>\n",
              "      <td>...</td>\n",
              "      <td>...</td>\n",
              "      <td>...</td>\n",
              "      <td>...</td>\n",
              "      <td>...</td>\n",
              "      <td>...</td>\n",
              "      <td>...</td>\n",
              "      <td>...</td>\n",
              "    </tr>\n",
              "    <tr>\n",
              "      <th>13943</th>\n",
              "      <td>NYA</td>\n",
              "      <td>2021-05-24</td>\n",
              "      <td>16375.000000</td>\n",
              "      <td>16508.519530</td>\n",
              "      <td>16375.000000</td>\n",
              "      <td>16464.689450</td>\n",
              "      <td>16464.689450</td>\n",
              "      <td>2.947400e+09</td>\n",
              "    </tr>\n",
              "    <tr>\n",
              "      <th>13944</th>\n",
              "      <td>NYA</td>\n",
              "      <td>2021-05-25</td>\n",
              "      <td>16464.689450</td>\n",
              "      <td>16525.810550</td>\n",
              "      <td>16375.150390</td>\n",
              "      <td>16390.189450</td>\n",
              "      <td>16390.189450</td>\n",
              "      <td>3.420870e+09</td>\n",
              "    </tr>\n",
              "    <tr>\n",
              "      <th>13945</th>\n",
              "      <td>NYA</td>\n",
              "      <td>2021-05-26</td>\n",
              "      <td>16390.189450</td>\n",
              "      <td>16466.339840</td>\n",
              "      <td>16388.320310</td>\n",
              "      <td>16451.960940</td>\n",
              "      <td>16451.960940</td>\n",
              "      <td>3.674490e+09</td>\n",
              "    </tr>\n",
              "    <tr>\n",
              "      <th>13946</th>\n",
              "      <td>NYA</td>\n",
              "      <td>2021-05-27</td>\n",
              "      <td>16451.960940</td>\n",
              "      <td>16546.359380</td>\n",
              "      <td>16451.960940</td>\n",
              "      <td>16531.949220</td>\n",
              "      <td>16531.949220</td>\n",
              "      <td>5.201110e+09</td>\n",
              "    </tr>\n",
              "    <tr>\n",
              "      <th>13947</th>\n",
              "      <td>NYA</td>\n",
              "      <td>2021-05-28</td>\n",
              "      <td>16531.949220</td>\n",
              "      <td>16588.689450</td>\n",
              "      <td>16531.949220</td>\n",
              "      <td>16555.660160</td>\n",
              "      <td>16555.660160</td>\n",
              "      <td>4.199270e+09</td>\n",
              "    </tr>\n",
              "  </tbody>\n",
              "</table>\n",
              "<p>13947 rows × 8 columns</p>\n",
              "</div>\n",
              "      <button class=\"colab-df-convert\" onclick=\"convertToInteractive('df-1f4aba73-6add-4d0a-9785-7a184fb9a568')\"\n",
              "              title=\"Convert this dataframe to an interactive table.\"\n",
              "              style=\"display:none;\">\n",
              "        \n",
              "  <svg xmlns=\"http://www.w3.org/2000/svg\" height=\"24px\"viewBox=\"0 0 24 24\"\n",
              "       width=\"24px\">\n",
              "    <path d=\"M0 0h24v24H0V0z\" fill=\"none\"/>\n",
              "    <path d=\"M18.56 5.44l.94 2.06.94-2.06 2.06-.94-2.06-.94-.94-2.06-.94 2.06-2.06.94zm-11 1L8.5 8.5l.94-2.06 2.06-.94-2.06-.94L8.5 2.5l-.94 2.06-2.06.94zm10 10l.94 2.06.94-2.06 2.06-.94-2.06-.94-.94-2.06-.94 2.06-2.06.94z\"/><path d=\"M17.41 7.96l-1.37-1.37c-.4-.4-.92-.59-1.43-.59-.52 0-1.04.2-1.43.59L10.3 9.45l-7.72 7.72c-.78.78-.78 2.05 0 2.83L4 21.41c.39.39.9.59 1.41.59.51 0 1.02-.2 1.41-.59l7.78-7.78 2.81-2.81c.8-.78.8-2.07 0-2.86zM5.41 20L4 18.59l7.72-7.72 1.47 1.35L5.41 20z\"/>\n",
              "  </svg>\n",
              "      </button>\n",
              "      \n",
              "  <style>\n",
              "    .colab-df-container {\n",
              "      display:flex;\n",
              "      flex-wrap:wrap;\n",
              "      gap: 12px;\n",
              "    }\n",
              "\n",
              "    .colab-df-convert {\n",
              "      background-color: #E8F0FE;\n",
              "      border: none;\n",
              "      border-radius: 50%;\n",
              "      cursor: pointer;\n",
              "      display: none;\n",
              "      fill: #1967D2;\n",
              "      height: 32px;\n",
              "      padding: 0 0 0 0;\n",
              "      width: 32px;\n",
              "    }\n",
              "\n",
              "    .colab-df-convert:hover {\n",
              "      background-color: #E2EBFA;\n",
              "      box-shadow: 0px 1px 2px rgba(60, 64, 67, 0.3), 0px 1px 3px 1px rgba(60, 64, 67, 0.15);\n",
              "      fill: #174EA6;\n",
              "    }\n",
              "\n",
              "    [theme=dark] .colab-df-convert {\n",
              "      background-color: #3B4455;\n",
              "      fill: #D2E3FC;\n",
              "    }\n",
              "\n",
              "    [theme=dark] .colab-df-convert:hover {\n",
              "      background-color: #434B5C;\n",
              "      box-shadow: 0px 1px 3px 1px rgba(0, 0, 0, 0.15);\n",
              "      filter: drop-shadow(0px 1px 2px rgba(0, 0, 0, 0.3));\n",
              "      fill: #FFFFFF;\n",
              "    }\n",
              "  </style>\n",
              "\n",
              "      <script>\n",
              "        const buttonEl =\n",
              "          document.querySelector('#df-1f4aba73-6add-4d0a-9785-7a184fb9a568 button.colab-df-convert');\n",
              "        buttonEl.style.display =\n",
              "          google.colab.kernel.accessAllowed ? 'block' : 'none';\n",
              "\n",
              "        async function convertToInteractive(key) {\n",
              "          const element = document.querySelector('#df-1f4aba73-6add-4d0a-9785-7a184fb9a568');\n",
              "          const dataTable =\n",
              "            await google.colab.kernel.invokeFunction('convertToInteractive',\n",
              "                                                     [key], {});\n",
              "          if (!dataTable) return;\n",
              "\n",
              "          const docLinkHtml = 'Like what you see? Visit the ' +\n",
              "            '<a target=\"_blank\" href=https://colab.research.google.com/notebooks/data_table.ipynb>data table notebook</a>'\n",
              "            + ' to learn more about interactive tables.';\n",
              "          element.innerHTML = '';\n",
              "          dataTable['output_type'] = 'display_data';\n",
              "          await google.colab.output.renderOutput(dataTable, element);\n",
              "          const docLink = document.createElement('div');\n",
              "          docLink.innerHTML = docLinkHtml;\n",
              "          element.appendChild(docLink);\n",
              "        }\n",
              "      </script>\n",
              "    </div>\n",
              "  </div>\n",
              "  "
            ]
          },
          "metadata": {},
          "execution_count": 63
        }
      ]
    },
    {
      "cell_type": "code",
      "source": [
        "#df_NYA_WithoutNull_withoutHigh = df_NYA_WithoutNull.drop(['High'],axis=1)"
      ],
      "metadata": {
        "id": "yc40hkjQCtra"
      },
      "execution_count": 64,
      "outputs": []
    },
    {
      "cell_type": "code",
      "source": [
        "df_NYA_WithoutNull_withoutIndex = df_NYA_WithoutNull.drop(['Index'],axis=1)"
      ],
      "metadata": {
        "id": "Whkfyy3gBeQy"
      },
      "execution_count": 65,
      "outputs": []
    },
    {
      "cell_type": "code",
      "source": [
        "data_train = df_NYA_WithoutNull_withoutIndex[df_NYA_WithoutNull_withoutIndex.Date < \"2010-01-01\"]\n",
        "data_test  = df_NYA_WithoutNull_withoutIndex[df_NYA_WithoutNull_withoutIndex.Date >=\"2010-01-01\"]"
      ],
      "metadata": {
        "id": "83agMwf4QEnt"
      },
      "execution_count": 66,
      "outputs": []
    },
    {
      "cell_type": "code",
      "source": [
        "data_train.Date=pd.to_datetime(data_train.Date).astype(np.int64)"
      ],
      "metadata": {
        "colab": {
          "base_uri": "https://localhost:8080/"
        },
        "id": "H6JhQdjhSGYf",
        "outputId": "e89f181e-b332-441e-c2ff-488fdec9ab3b"
      },
      "execution_count": 67,
      "outputs": [
        {
          "output_type": "stream",
          "name": "stderr",
          "text": [
            "<ipython-input-67-bc0350d3da3b>:1: FutureWarning: casting datetime64[ns] values to int64 with .astype(...) is deprecated and will raise in a future version. Use .view(...) instead.\n",
            "  data_train.Date=pd.to_datetime(data_train.Date).astype(np.int64)\n",
            "/usr/local/lib/python3.8/dist-packages/pandas/core/generic.py:5516: SettingWithCopyWarning: \n",
            "A value is trying to be set on a copy of a slice from a DataFrame.\n",
            "Try using .loc[row_indexer,col_indexer] = value instead\n",
            "\n",
            "See the caveats in the documentation: https://pandas.pydata.org/pandas-docs/stable/user_guide/indexing.html#returning-a-view-versus-a-copy\n",
            "  self[name] = value\n"
          ]
        }
      ]
    },
    {
      "cell_type": "code",
      "source": [
        "data_test.Date=pd.to_datetime(data_test.Date).astype(np.int64)"
      ],
      "metadata": {
        "colab": {
          "base_uri": "https://localhost:8080/"
        },
        "id": "dS5rBS-oSron",
        "outputId": "2d8a4a2a-3b02-4e22-8974-bb06db0ef3cb"
      },
      "execution_count": 68,
      "outputs": [
        {
          "output_type": "stream",
          "name": "stderr",
          "text": [
            "<ipython-input-68-09476f36109d>:1: FutureWarning: casting datetime64[ns] values to int64 with .astype(...) is deprecated and will raise in a future version. Use .view(...) instead.\n",
            "  data_test.Date=pd.to_datetime(data_test.Date).astype(np.int64)\n",
            "/usr/local/lib/python3.8/dist-packages/pandas/core/generic.py:5516: SettingWithCopyWarning: \n",
            "A value is trying to be set on a copy of a slice from a DataFrame.\n",
            "Try using .loc[row_indexer,col_indexer] = value instead\n",
            "\n",
            "See the caveats in the documentation: https://pandas.pydata.org/pandas-docs/stable/user_guide/indexing.html#returning-a-view-versus-a-copy\n",
            "  self[name] = value\n"
          ]
        }
      ]
    },
    {
      "cell_type": "code",
      "source": [
        "data_train = data_train.dropna()"
      ],
      "metadata": {
        "id": "A_WA0q2z-VgD"
      },
      "execution_count": 69,
      "outputs": []
    },
    {
      "cell_type": "code",
      "source": [
        "data_test = data_test.dropna()"
      ],
      "metadata": {
        "id": "52zqEY4R-t0Z"
      },
      "execution_count": 70,
      "outputs": []
    },
    {
      "cell_type": "code",
      "source": [
        "data_train_target = data_train.High"
      ],
      "metadata": {
        "id": "pHHUTXSOYgxi"
      },
      "execution_count": 71,
      "outputs": []
    },
    {
      "cell_type": "code",
      "source": [
        "data_train_withoutHigh = data_train.drop(['High'],axis=1)"
      ],
      "metadata": {
        "id": "e4ub4f7QYgWI"
      },
      "execution_count": 72,
      "outputs": []
    },
    {
      "cell_type": "code",
      "source": [
        "data_test_target= data_test.High"
      ],
      "metadata": {
        "id": "xUj46_YoZDPz"
      },
      "execution_count": 73,
      "outputs": []
    },
    {
      "cell_type": "code",
      "source": [
        "data_test_withoutHigh = data_test.drop(['High'],axis=1)"
      ],
      "metadata": {
        "id": "kWtScn-PZMCB"
      },
      "execution_count": 74,
      "outputs": []
    },
    {
      "cell_type": "code",
      "source": [
        "linear_reg_mutiple_variable_model = LinearRegression().fit(data_train_withoutHigh, data_train_target) "
      ],
      "metadata": {
        "id": "rZT_8t0aX_m4"
      },
      "execution_count": 75,
      "outputs": []
    },
    {
      "cell_type": "code",
      "source": [
        "lasson_reg_mutiple_variable_model = model_lasso.fit(data_train_withoutHigh,data_train_target)"
      ],
      "metadata": {
        "id": "9gdXDowLohTg"
      },
      "execution_count": 76,
      "outputs": []
    },
    {
      "cell_type": "code",
      "source": [
        "data_test_predict = linear_reg_mutiple_variable_model.predict(data_test_withoutHigh)"
      ],
      "metadata": {
        "id": "uF5eVYkIaT4D"
      },
      "execution_count": 77,
      "outputs": []
    },
    {
      "cell_type": "code",
      "source": [
        "data_test_predict_lasson = lasson_reg_mutiple_variable_model.predict(data_test_withoutHigh)"
      ],
      "metadata": {
        "id": "0wuy7HJUpVIe"
      },
      "execution_count": 78,
      "outputs": []
    },
    {
      "cell_type": "code",
      "source": [
        "print(mean_squared_error(data_test_target, data_test_predict))\n",
        "score = r2_score(data_test_target, data_test_predict)\n",
        "print(score)"
      ],
      "metadata": {
        "colab": {
          "base_uri": "https://localhost:8080/"
        },
        "id": "YxBdi4dwhetr",
        "outputId": "2f46f656-eadd-4cde-f0bd-1f6384648e4f"
      },
      "execution_count": 79,
      "outputs": [
        {
          "output_type": "stream",
          "name": "stdout",
          "text": [
            "2429.1898727539547\n",
            "0.9995023448933067\n"
          ]
        }
      ]
    },
    {
      "cell_type": "code",
      "source": [
        "print(mean_squared_error(data_test_target, data_test_predict_lasson))\n",
        "score = r2_score(data_test_target, data_test_predict_lasson)\n",
        "print(score)"
      ],
      "metadata": {
        "colab": {
          "base_uri": "https://localhost:8080/"
        },
        "id": "lK5CdknjphG0",
        "outputId": "e972f0c3-380c-4bb8-bb6f-0f1333c0ae5d"
      },
      "execution_count": 80,
      "outputs": [
        {
          "output_type": "stream",
          "name": "stdout",
          "text": [
            "2952.2144815184743\n",
            "0.9993951956455689\n"
          ]
        }
      ]
    },
    {
      "cell_type": "code",
      "source": [
        "import pandas as pd\n"
      ],
      "metadata": {
        "id": "-8Ogehz7whDA"
      },
      "execution_count": 82,
      "outputs": []
    },
    {
      "cell_type": "code",
      "source": [
        "from sklearn.feature_selection import SelectKBest, f_regression"
      ],
      "metadata": {
        "id": "lCM0rBzANGnH"
      },
      "execution_count": 83,
      "outputs": []
    },
    {
      "cell_type": "code",
      "source": [
        "selector = SelectKBest(f_regression, k=3)"
      ],
      "metadata": {
        "id": "oqjgfQ7FMQLh"
      },
      "execution_count": 84,
      "outputs": []
    },
    {
      "cell_type": "code",
      "source": [
        "data_train_withoutHigh"
      ],
      "metadata": {
        "colab": {
          "base_uri": "https://localhost:8080/",
          "height": 424
        },
        "id": "Q6-nFD-eNky4",
        "outputId": "9d309327-7d56-406c-f7f9-38c4a2b1b46a"
      },
      "execution_count": 85,
      "outputs": [
        {
          "output_type": "execute_result",
          "data": {
            "text/plain": [
              "                      Date         Open          Low        Close  \\\n",
              "0      -126316800000000000   528.690002   528.690002   528.690002   \n",
              "1      -126057600000000000   527.210022   527.210022   527.210022   \n",
              "2      -125971200000000000   527.840027   527.840027   527.840027   \n",
              "3      -125884800000000000   531.119995   531.119995   531.119995   \n",
              "4      -125798400000000000   532.070007   532.070007   532.070007   \n",
              "...                    ...          ...          ...          ...   \n",
              "11072  1261612800000000000  7217.049805  7217.049805  7255.000000   \n",
              "11073  1261958400000000000  7255.000000  7240.160156  7261.240234   \n",
              "11074  1262044800000000000  7261.299805  7250.509766  7252.189941   \n",
              "11075  1262131200000000000  7252.169922  7209.430176  7241.240234   \n",
              "11076  1262217600000000000  7241.250000  7183.839844  7184.959961   \n",
              "\n",
              "         Adj Close        Volume  \n",
              "0       528.690002  0.000000e+00  \n",
              "1       527.210022  0.000000e+00  \n",
              "2       527.840027  0.000000e+00  \n",
              "3       531.119995  0.000000e+00  \n",
              "4       532.070007  0.000000e+00  \n",
              "...            ...           ...  \n",
              "11072  7255.000000  1.267710e+09  \n",
              "11073  7261.240234  2.716400e+09  \n",
              "11074  7252.189941  2.491020e+09  \n",
              "11075  7241.240234  2.277300e+09  \n",
              "11076  7184.959961  2.076990e+09  \n",
              "\n",
              "[11076 rows x 6 columns]"
            ],
            "text/html": [
              "\n",
              "  <div id=\"df-14cf71f5-7f7b-406d-aab7-a2271abdb34a\">\n",
              "    <div class=\"colab-df-container\">\n",
              "      <div>\n",
              "<style scoped>\n",
              "    .dataframe tbody tr th:only-of-type {\n",
              "        vertical-align: middle;\n",
              "    }\n",
              "\n",
              "    .dataframe tbody tr th {\n",
              "        vertical-align: top;\n",
              "    }\n",
              "\n",
              "    .dataframe thead th {\n",
              "        text-align: right;\n",
              "    }\n",
              "</style>\n",
              "<table border=\"1\" class=\"dataframe\">\n",
              "  <thead>\n",
              "    <tr style=\"text-align: right;\">\n",
              "      <th></th>\n",
              "      <th>Date</th>\n",
              "      <th>Open</th>\n",
              "      <th>Low</th>\n",
              "      <th>Close</th>\n",
              "      <th>Adj Close</th>\n",
              "      <th>Volume</th>\n",
              "    </tr>\n",
              "  </thead>\n",
              "  <tbody>\n",
              "    <tr>\n",
              "      <th>0</th>\n",
              "      <td>-126316800000000000</td>\n",
              "      <td>528.690002</td>\n",
              "      <td>528.690002</td>\n",
              "      <td>528.690002</td>\n",
              "      <td>528.690002</td>\n",
              "      <td>0.000000e+00</td>\n",
              "    </tr>\n",
              "    <tr>\n",
              "      <th>1</th>\n",
              "      <td>-126057600000000000</td>\n",
              "      <td>527.210022</td>\n",
              "      <td>527.210022</td>\n",
              "      <td>527.210022</td>\n",
              "      <td>527.210022</td>\n",
              "      <td>0.000000e+00</td>\n",
              "    </tr>\n",
              "    <tr>\n",
              "      <th>2</th>\n",
              "      <td>-125971200000000000</td>\n",
              "      <td>527.840027</td>\n",
              "      <td>527.840027</td>\n",
              "      <td>527.840027</td>\n",
              "      <td>527.840027</td>\n",
              "      <td>0.000000e+00</td>\n",
              "    </tr>\n",
              "    <tr>\n",
              "      <th>3</th>\n",
              "      <td>-125884800000000000</td>\n",
              "      <td>531.119995</td>\n",
              "      <td>531.119995</td>\n",
              "      <td>531.119995</td>\n",
              "      <td>531.119995</td>\n",
              "      <td>0.000000e+00</td>\n",
              "    </tr>\n",
              "    <tr>\n",
              "      <th>4</th>\n",
              "      <td>-125798400000000000</td>\n",
              "      <td>532.070007</td>\n",
              "      <td>532.070007</td>\n",
              "      <td>532.070007</td>\n",
              "      <td>532.070007</td>\n",
              "      <td>0.000000e+00</td>\n",
              "    </tr>\n",
              "    <tr>\n",
              "      <th>...</th>\n",
              "      <td>...</td>\n",
              "      <td>...</td>\n",
              "      <td>...</td>\n",
              "      <td>...</td>\n",
              "      <td>...</td>\n",
              "      <td>...</td>\n",
              "    </tr>\n",
              "    <tr>\n",
              "      <th>11072</th>\n",
              "      <td>1261612800000000000</td>\n",
              "      <td>7217.049805</td>\n",
              "      <td>7217.049805</td>\n",
              "      <td>7255.000000</td>\n",
              "      <td>7255.000000</td>\n",
              "      <td>1.267710e+09</td>\n",
              "    </tr>\n",
              "    <tr>\n",
              "      <th>11073</th>\n",
              "      <td>1261958400000000000</td>\n",
              "      <td>7255.000000</td>\n",
              "      <td>7240.160156</td>\n",
              "      <td>7261.240234</td>\n",
              "      <td>7261.240234</td>\n",
              "      <td>2.716400e+09</td>\n",
              "    </tr>\n",
              "    <tr>\n",
              "      <th>11074</th>\n",
              "      <td>1262044800000000000</td>\n",
              "      <td>7261.299805</td>\n",
              "      <td>7250.509766</td>\n",
              "      <td>7252.189941</td>\n",
              "      <td>7252.189941</td>\n",
              "      <td>2.491020e+09</td>\n",
              "    </tr>\n",
              "    <tr>\n",
              "      <th>11075</th>\n",
              "      <td>1262131200000000000</td>\n",
              "      <td>7252.169922</td>\n",
              "      <td>7209.430176</td>\n",
              "      <td>7241.240234</td>\n",
              "      <td>7241.240234</td>\n",
              "      <td>2.277300e+09</td>\n",
              "    </tr>\n",
              "    <tr>\n",
              "      <th>11076</th>\n",
              "      <td>1262217600000000000</td>\n",
              "      <td>7241.250000</td>\n",
              "      <td>7183.839844</td>\n",
              "      <td>7184.959961</td>\n",
              "      <td>7184.959961</td>\n",
              "      <td>2.076990e+09</td>\n",
              "    </tr>\n",
              "  </tbody>\n",
              "</table>\n",
              "<p>11076 rows × 6 columns</p>\n",
              "</div>\n",
              "      <button class=\"colab-df-convert\" onclick=\"convertToInteractive('df-14cf71f5-7f7b-406d-aab7-a2271abdb34a')\"\n",
              "              title=\"Convert this dataframe to an interactive table.\"\n",
              "              style=\"display:none;\">\n",
              "        \n",
              "  <svg xmlns=\"http://www.w3.org/2000/svg\" height=\"24px\"viewBox=\"0 0 24 24\"\n",
              "       width=\"24px\">\n",
              "    <path d=\"M0 0h24v24H0V0z\" fill=\"none\"/>\n",
              "    <path d=\"M18.56 5.44l.94 2.06.94-2.06 2.06-.94-2.06-.94-.94-2.06-.94 2.06-2.06.94zm-11 1L8.5 8.5l.94-2.06 2.06-.94-2.06-.94L8.5 2.5l-.94 2.06-2.06.94zm10 10l.94 2.06.94-2.06 2.06-.94-2.06-.94-.94-2.06-.94 2.06-2.06.94z\"/><path d=\"M17.41 7.96l-1.37-1.37c-.4-.4-.92-.59-1.43-.59-.52 0-1.04.2-1.43.59L10.3 9.45l-7.72 7.72c-.78.78-.78 2.05 0 2.83L4 21.41c.39.39.9.59 1.41.59.51 0 1.02-.2 1.41-.59l7.78-7.78 2.81-2.81c.8-.78.8-2.07 0-2.86zM5.41 20L4 18.59l7.72-7.72 1.47 1.35L5.41 20z\"/>\n",
              "  </svg>\n",
              "      </button>\n",
              "      \n",
              "  <style>\n",
              "    .colab-df-container {\n",
              "      display:flex;\n",
              "      flex-wrap:wrap;\n",
              "      gap: 12px;\n",
              "    }\n",
              "\n",
              "    .colab-df-convert {\n",
              "      background-color: #E8F0FE;\n",
              "      border: none;\n",
              "      border-radius: 50%;\n",
              "      cursor: pointer;\n",
              "      display: none;\n",
              "      fill: #1967D2;\n",
              "      height: 32px;\n",
              "      padding: 0 0 0 0;\n",
              "      width: 32px;\n",
              "    }\n",
              "\n",
              "    .colab-df-convert:hover {\n",
              "      background-color: #E2EBFA;\n",
              "      box-shadow: 0px 1px 2px rgba(60, 64, 67, 0.3), 0px 1px 3px 1px rgba(60, 64, 67, 0.15);\n",
              "      fill: #174EA6;\n",
              "    }\n",
              "\n",
              "    [theme=dark] .colab-df-convert {\n",
              "      background-color: #3B4455;\n",
              "      fill: #D2E3FC;\n",
              "    }\n",
              "\n",
              "    [theme=dark] .colab-df-convert:hover {\n",
              "      background-color: #434B5C;\n",
              "      box-shadow: 0px 1px 3px 1px rgba(0, 0, 0, 0.15);\n",
              "      filter: drop-shadow(0px 1px 2px rgba(0, 0, 0, 0.3));\n",
              "      fill: #FFFFFF;\n",
              "    }\n",
              "  </style>\n",
              "\n",
              "      <script>\n",
              "        const buttonEl =\n",
              "          document.querySelector('#df-14cf71f5-7f7b-406d-aab7-a2271abdb34a button.colab-df-convert');\n",
              "        buttonEl.style.display =\n",
              "          google.colab.kernel.accessAllowed ? 'block' : 'none';\n",
              "\n",
              "        async function convertToInteractive(key) {\n",
              "          const element = document.querySelector('#df-14cf71f5-7f7b-406d-aab7-a2271abdb34a');\n",
              "          const dataTable =\n",
              "            await google.colab.kernel.invokeFunction('convertToInteractive',\n",
              "                                                     [key], {});\n",
              "          if (!dataTable) return;\n",
              "\n",
              "          const docLinkHtml = 'Like what you see? Visit the ' +\n",
              "            '<a target=\"_blank\" href=https://colab.research.google.com/notebooks/data_table.ipynb>data table notebook</a>'\n",
              "            + ' to learn more about interactive tables.';\n",
              "          element.innerHTML = '';\n",
              "          dataTable['output_type'] = 'display_data';\n",
              "          await google.colab.output.renderOutput(dataTable, element);\n",
              "          const docLink = document.createElement('div');\n",
              "          docLink.innerHTML = docLinkHtml;\n",
              "          element.appendChild(docLink);\n",
              "        }\n",
              "      </script>\n",
              "    </div>\n",
              "  </div>\n",
              "  "
            ]
          },
          "metadata": {},
          "execution_count": 85
        }
      ]
    },
    {
      "cell_type": "code",
      "source": [
        "type(data_train_withoutHigh.columns)"
      ],
      "metadata": {
        "colab": {
          "base_uri": "https://localhost:8080/"
        },
        "id": "hvcnAQKoOq_6",
        "outputId": "2ccb52a7-2f49-4bb2-d25b-e3e4699581bc"
      },
      "execution_count": 86,
      "outputs": [
        {
          "output_type": "execute_result",
          "data": {
            "text/plain": [
              "pandas.core.indexes.base.Index"
            ]
          },
          "metadata": {},
          "execution_count": 86
        }
      ]
    },
    {
      "cell_type": "code",
      "source": [
        "data_train_target"
      ],
      "metadata": {
        "colab": {
          "base_uri": "https://localhost:8080/"
        },
        "id": "JL7QaGhENnCw",
        "outputId": "b8b1dcc6-0b7f-485b-f066-7f1379a1434a"
      },
      "execution_count": 87,
      "outputs": [
        {
          "output_type": "execute_result",
          "data": {
            "text/plain": [
              "0         528.690002\n",
              "1         527.210022\n",
              "2         527.840027\n",
              "3         531.119995\n",
              "4         532.070007\n",
              "            ...     \n",
              "11072    7256.870117\n",
              "11073    7282.990234\n",
              "11074    7288.229980\n",
              "11075    7252.169922\n",
              "11076    7258.750000\n",
              "Name: High, Length: 11076, dtype: float64"
            ]
          },
          "metadata": {},
          "execution_count": 87
        }
      ]
    },
    {
      "cell_type": "code",
      "source": [
        "X_new = selector.fit_transform(data_train_withoutHigh, data_train_target)"
      ],
      "metadata": {
        "id": "Mkm3_5mcJLg-"
      },
      "execution_count": 88,
      "outputs": []
    },
    {
      "cell_type": "code",
      "source": [
        "selector.get_support()"
      ],
      "metadata": {
        "colab": {
          "base_uri": "https://localhost:8080/"
        },
        "id": "iKfUM494OgVZ",
        "outputId": "b8af58ee-dc04-4af2-dea0-28c4e58c126c"
      },
      "execution_count": 89,
      "outputs": [
        {
          "output_type": "execute_result",
          "data": {
            "text/plain": [
              "array([False,  True, False,  True,  True, False])"
            ]
          },
          "metadata": {},
          "execution_count": 89
        }
      ]
    },
    {
      "cell_type": "code",
      "source": [
        "data_test_withoutHigh = data_test_withoutHigh[[\"Open\",\"Close\",\"Adj Close\"]]"
      ],
      "metadata": {
        "id": "pJZAvHUDRzfA"
      },
      "execution_count": 90,
      "outputs": []
    },
    {
      "cell_type": "code",
      "source": [
        "mask = selector.get_support()\n",
        "new_features = []\n",
        "for bool, feature in zip(mask, data_train_withoutHigh.columns):\n",
        "  if bool:\n",
        "    new_features.append(feature)"
      ],
      "metadata": {
        "id": "uuGGmbxcN-f6"
      },
      "execution_count": 91,
      "outputs": []
    },
    {
      "cell_type": "code",
      "source": [
        "new_features"
      ],
      "metadata": {
        "colab": {
          "base_uri": "https://localhost:8080/"
        },
        "id": "YgcKGhW7ShHt",
        "outputId": "0d6dcc3b-63cd-4f6c-e17a-fe6c75a918d4"
      },
      "execution_count": 92,
      "outputs": [
        {
          "output_type": "execute_result",
          "data": {
            "text/plain": [
              "['Open', 'Close', 'Adj Close']"
            ]
          },
          "metadata": {},
          "execution_count": 92
        }
      ]
    },
    {
      "cell_type": "code",
      "source": [
        "X_new"
      ],
      "metadata": {
        "colab": {
          "base_uri": "https://localhost:8080/"
        },
        "id": "ehpP8nt6g7Iv",
        "outputId": "cbd67ec8-131f-48d9-a596-796b9b44db31"
      },
      "execution_count": 93,
      "outputs": [
        {
          "output_type": "execute_result",
          "data": {
            "text/plain": [
              "array([[ 528.690002,  528.690002,  528.690002],\n",
              "       [ 527.210022,  527.210022,  527.210022],\n",
              "       [ 527.840027,  527.840027,  527.840027],\n",
              "       ...,\n",
              "       [7261.299805, 7252.189941, 7252.189941],\n",
              "       [7252.169922, 7241.240234, 7241.240234],\n",
              "       [7241.25    , 7184.959961, 7184.959961]])"
            ]
          },
          "metadata": {},
          "execution_count": 93
        }
      ]
    },
    {
      "cell_type": "code",
      "source": [
        "data_train_new = pd.DataFrame(X_new, columns=new_features)"
      ],
      "metadata": {
        "id": "xpH5aXhGPQpF"
      },
      "execution_count": 94,
      "outputs": []
    },
    {
      "cell_type": "code",
      "source": [
        "linear_reg_mutiple_variable_model_after_selectK = LinearRegression().fit(data_train_new, data_train_target) "
      ],
      "metadata": {
        "id": "mA0zilM3Qd5I"
      },
      "execution_count": 95,
      "outputs": []
    },
    {
      "cell_type": "code",
      "source": [
        "model_lasso = Lasso(alpha=1)"
      ],
      "metadata": {
        "id": "YM21Rv9wshSN"
      },
      "execution_count": 96,
      "outputs": []
    },
    {
      "cell_type": "code",
      "source": [
        "lasson_reg_mutiple_variable_model_after_selectK = model_lasso.fit(data_train_new, data_train_target)"
      ],
      "metadata": {
        "id": "GG5MnI-xsHPi"
      },
      "execution_count": 97,
      "outputs": []
    },
    {
      "cell_type": "code",
      "source": [
        "data_test_withoutHigh"
      ],
      "metadata": {
        "colab": {
          "base_uri": "https://localhost:8080/",
          "height": 424
        },
        "id": "D0BVUjfSgeht",
        "outputId": "5f9230e3-fc35-4662-f805-f99543ba63a9"
      },
      "execution_count": 98,
      "outputs": [
        {
          "output_type": "execute_result",
          "data": {
            "text/plain": [
              "               Open         Close     Adj Close\n",
              "11077   7184.979980   7326.740234   7326.740234\n",
              "11078   7326.740234   7354.870117   7354.870117\n",
              "11079   7354.850098   7377.700195   7377.700195\n",
              "11080   7377.700195   7393.930176   7393.930176\n",
              "11081   7393.930176   7425.350098   7425.350098\n",
              "...             ...           ...           ...\n",
              "13943  16375.000000  16464.689450  16464.689450\n",
              "13944  16464.689450  16390.189450  16390.189450\n",
              "13945  16390.189450  16451.960940  16451.960940\n",
              "13946  16451.960940  16531.949220  16531.949220\n",
              "13947  16531.949220  16555.660160  16555.660160\n",
              "\n",
              "[2871 rows x 3 columns]"
            ],
            "text/html": [
              "\n",
              "  <div id=\"df-c679f572-9df1-4adf-844f-61f6d9c8f01c\">\n",
              "    <div class=\"colab-df-container\">\n",
              "      <div>\n",
              "<style scoped>\n",
              "    .dataframe tbody tr th:only-of-type {\n",
              "        vertical-align: middle;\n",
              "    }\n",
              "\n",
              "    .dataframe tbody tr th {\n",
              "        vertical-align: top;\n",
              "    }\n",
              "\n",
              "    .dataframe thead th {\n",
              "        text-align: right;\n",
              "    }\n",
              "</style>\n",
              "<table border=\"1\" class=\"dataframe\">\n",
              "  <thead>\n",
              "    <tr style=\"text-align: right;\">\n",
              "      <th></th>\n",
              "      <th>Open</th>\n",
              "      <th>Close</th>\n",
              "      <th>Adj Close</th>\n",
              "    </tr>\n",
              "  </thead>\n",
              "  <tbody>\n",
              "    <tr>\n",
              "      <th>11077</th>\n",
              "      <td>7184.979980</td>\n",
              "      <td>7326.740234</td>\n",
              "      <td>7326.740234</td>\n",
              "    </tr>\n",
              "    <tr>\n",
              "      <th>11078</th>\n",
              "      <td>7326.740234</td>\n",
              "      <td>7354.870117</td>\n",
              "      <td>7354.870117</td>\n",
              "    </tr>\n",
              "    <tr>\n",
              "      <th>11079</th>\n",
              "      <td>7354.850098</td>\n",
              "      <td>7377.700195</td>\n",
              "      <td>7377.700195</td>\n",
              "    </tr>\n",
              "    <tr>\n",
              "      <th>11080</th>\n",
              "      <td>7377.700195</td>\n",
              "      <td>7393.930176</td>\n",
              "      <td>7393.930176</td>\n",
              "    </tr>\n",
              "    <tr>\n",
              "      <th>11081</th>\n",
              "      <td>7393.930176</td>\n",
              "      <td>7425.350098</td>\n",
              "      <td>7425.350098</td>\n",
              "    </tr>\n",
              "    <tr>\n",
              "      <th>...</th>\n",
              "      <td>...</td>\n",
              "      <td>...</td>\n",
              "      <td>...</td>\n",
              "    </tr>\n",
              "    <tr>\n",
              "      <th>13943</th>\n",
              "      <td>16375.000000</td>\n",
              "      <td>16464.689450</td>\n",
              "      <td>16464.689450</td>\n",
              "    </tr>\n",
              "    <tr>\n",
              "      <th>13944</th>\n",
              "      <td>16464.689450</td>\n",
              "      <td>16390.189450</td>\n",
              "      <td>16390.189450</td>\n",
              "    </tr>\n",
              "    <tr>\n",
              "      <th>13945</th>\n",
              "      <td>16390.189450</td>\n",
              "      <td>16451.960940</td>\n",
              "      <td>16451.960940</td>\n",
              "    </tr>\n",
              "    <tr>\n",
              "      <th>13946</th>\n",
              "      <td>16451.960940</td>\n",
              "      <td>16531.949220</td>\n",
              "      <td>16531.949220</td>\n",
              "    </tr>\n",
              "    <tr>\n",
              "      <th>13947</th>\n",
              "      <td>16531.949220</td>\n",
              "      <td>16555.660160</td>\n",
              "      <td>16555.660160</td>\n",
              "    </tr>\n",
              "  </tbody>\n",
              "</table>\n",
              "<p>2871 rows × 3 columns</p>\n",
              "</div>\n",
              "      <button class=\"colab-df-convert\" onclick=\"convertToInteractive('df-c679f572-9df1-4adf-844f-61f6d9c8f01c')\"\n",
              "              title=\"Convert this dataframe to an interactive table.\"\n",
              "              style=\"display:none;\">\n",
              "        \n",
              "  <svg xmlns=\"http://www.w3.org/2000/svg\" height=\"24px\"viewBox=\"0 0 24 24\"\n",
              "       width=\"24px\">\n",
              "    <path d=\"M0 0h24v24H0V0z\" fill=\"none\"/>\n",
              "    <path d=\"M18.56 5.44l.94 2.06.94-2.06 2.06-.94-2.06-.94-.94-2.06-.94 2.06-2.06.94zm-11 1L8.5 8.5l.94-2.06 2.06-.94-2.06-.94L8.5 2.5l-.94 2.06-2.06.94zm10 10l.94 2.06.94-2.06 2.06-.94-2.06-.94-.94-2.06-.94 2.06-2.06.94z\"/><path d=\"M17.41 7.96l-1.37-1.37c-.4-.4-.92-.59-1.43-.59-.52 0-1.04.2-1.43.59L10.3 9.45l-7.72 7.72c-.78.78-.78 2.05 0 2.83L4 21.41c.39.39.9.59 1.41.59.51 0 1.02-.2 1.41-.59l7.78-7.78 2.81-2.81c.8-.78.8-2.07 0-2.86zM5.41 20L4 18.59l7.72-7.72 1.47 1.35L5.41 20z\"/>\n",
              "  </svg>\n",
              "      </button>\n",
              "      \n",
              "  <style>\n",
              "    .colab-df-container {\n",
              "      display:flex;\n",
              "      flex-wrap:wrap;\n",
              "      gap: 12px;\n",
              "    }\n",
              "\n",
              "    .colab-df-convert {\n",
              "      background-color: #E8F0FE;\n",
              "      border: none;\n",
              "      border-radius: 50%;\n",
              "      cursor: pointer;\n",
              "      display: none;\n",
              "      fill: #1967D2;\n",
              "      height: 32px;\n",
              "      padding: 0 0 0 0;\n",
              "      width: 32px;\n",
              "    }\n",
              "\n",
              "    .colab-df-convert:hover {\n",
              "      background-color: #E2EBFA;\n",
              "      box-shadow: 0px 1px 2px rgba(60, 64, 67, 0.3), 0px 1px 3px 1px rgba(60, 64, 67, 0.15);\n",
              "      fill: #174EA6;\n",
              "    }\n",
              "\n",
              "    [theme=dark] .colab-df-convert {\n",
              "      background-color: #3B4455;\n",
              "      fill: #D2E3FC;\n",
              "    }\n",
              "\n",
              "    [theme=dark] .colab-df-convert:hover {\n",
              "      background-color: #434B5C;\n",
              "      box-shadow: 0px 1px 3px 1px rgba(0, 0, 0, 0.15);\n",
              "      filter: drop-shadow(0px 1px 2px rgba(0, 0, 0, 0.3));\n",
              "      fill: #FFFFFF;\n",
              "    }\n",
              "  </style>\n",
              "\n",
              "      <script>\n",
              "        const buttonEl =\n",
              "          document.querySelector('#df-c679f572-9df1-4adf-844f-61f6d9c8f01c button.colab-df-convert');\n",
              "        buttonEl.style.display =\n",
              "          google.colab.kernel.accessAllowed ? 'block' : 'none';\n",
              "\n",
              "        async function convertToInteractive(key) {\n",
              "          const element = document.querySelector('#df-c679f572-9df1-4adf-844f-61f6d9c8f01c');\n",
              "          const dataTable =\n",
              "            await google.colab.kernel.invokeFunction('convertToInteractive',\n",
              "                                                     [key], {});\n",
              "          if (!dataTable) return;\n",
              "\n",
              "          const docLinkHtml = 'Like what you see? Visit the ' +\n",
              "            '<a target=\"_blank\" href=https://colab.research.google.com/notebooks/data_table.ipynb>data table notebook</a>'\n",
              "            + ' to learn more about interactive tables.';\n",
              "          element.innerHTML = '';\n",
              "          dataTable['output_type'] = 'display_data';\n",
              "          await google.colab.output.renderOutput(dataTable, element);\n",
              "          const docLink = document.createElement('div');\n",
              "          docLink.innerHTML = docLinkHtml;\n",
              "          element.appendChild(docLink);\n",
              "        }\n",
              "      </script>\n",
              "    </div>\n",
              "  </div>\n",
              "  "
            ]
          },
          "metadata": {},
          "execution_count": 98
        }
      ]
    },
    {
      "cell_type": "code",
      "source": [
        "y_pred_after_select = linear_reg_mutiple_variable_model_after_selectK.predict(data_test_withoutHigh) # Now, we have the predication from the 3 features selected from 6 features."
      ],
      "metadata": {
        "id": "87jZ1YeRQ1tB"
      },
      "execution_count": 99,
      "outputs": []
    },
    {
      "cell_type": "code",
      "source": [
        "y_predict_lasso_after_select = lasson_reg_mutiple_variable_model_after_selectK.predict(data_test_withoutHigh)"
      ],
      "metadata": {
        "id": "IQ6xOBlRs6de"
      },
      "execution_count": 100,
      "outputs": []
    },
    {
      "cell_type": "code",
      "source": [
        "print(mean_squared_error(data_test_target, y_pred_after_select))\n",
        "score = r2_score(data_test_target, y_pred_after_select)\n",
        "print(score)"
      ],
      "metadata": {
        "colab": {
          "base_uri": "https://localhost:8080/"
        },
        "id": "ICjNbz9dZrhS",
        "outputId": "5c549e13-7402-4b4c-c6f8-8aabb8a47ff0"
      },
      "execution_count": 101,
      "outputs": [
        {
          "output_type": "stream",
          "name": "stdout",
          "text": [
            "1948.1970216272161\n",
            "0.9996008833201835\n"
          ]
        }
      ]
    },
    {
      "cell_type": "code",
      "source": [
        "print(mean_squared_error(data_test_target, y_predict_lasso_after_select))\n",
        "score = r2_score(data_test_target, y_predict_lasso_after_select)\n",
        "print(score)"
      ],
      "metadata": {
        "colab": {
          "base_uri": "https://localhost:8080/"
        },
        "id": "iKC3Y9PWtJYs",
        "outputId": "f4be3864-28d9-47d7-92f9-7d396d110d34"
      },
      "execution_count": 102,
      "outputs": [
        {
          "output_type": "stream",
          "name": "stdout",
          "text": [
            "3355.425642022033\n",
            "0.9993125919366737\n"
          ]
        }
      ]
    },
    {
      "cell_type": "code",
      "source": [],
      "metadata": {
        "id": "96dGq8eabtVE"
      },
      "execution_count": null,
      "outputs": []
    }
  ]
}